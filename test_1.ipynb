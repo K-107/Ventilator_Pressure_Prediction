{
  "nbformat": 4,
  "nbformat_minor": 0,
  "metadata": {
    "colab": {
      "name": "test_1.ipynb",
      "provenance": [],
      "mount_file_id": "https://github.com/K-107/Ventilator_Pressure_Prediction/blob/main/test_1.ipynb",
      "authorship_tag": "ABX9TyPFQ8HF9C7p+L5Gs/gHpBRH",
      "include_colab_link": true
    },
    "kernelspec": {
      "name": "python3",
      "display_name": "Python 3"
    },
    "language_info": {
      "name": "python"
    }
  },
  "cells": [
    {
      "cell_type": "markdown",
      "metadata": {
        "id": "view-in-github",
        "colab_type": "text"
      },
      "source": [
        "<a href=\"https://colab.research.google.com/github/K-107/Ventilator_Pressure_Prediction/blob/main/test_1.ipynb\" target=\"_parent\"><img src=\"https://colab.research.google.com/assets/colab-badge.svg\" alt=\"Open In Colab\"/></a>"
      ]
    },
    {
      "cell_type": "markdown",
      "metadata": {
        "id": "3Mi630iM8fBb"
      },
      "source": [
        "# https://www.kaggle.com/deepak915/best-mae-score-starter-guide"
      ]
    },
    {
      "cell_type": "code",
      "metadata": {
        "colab": {
          "base_uri": "https://localhost:8080/"
        },
        "id": "S_X00FnTw-8d",
        "outputId": "b9dad6b4-f506-464d-d861-c3ea199c5475"
      },
      "source": [
        "% cd /content/drive/MyDrive/Ventilator_Pressure_Prediction"
      ],
      "execution_count": 1,
      "outputs": [
        {
          "output_type": "stream",
          "name": "stdout",
          "text": [
            "/content/drive/MyDrive/Ventilator_Pressure_Prediction\n"
          ]
        }
      ]
    },
    {
      "cell_type": "code",
      "metadata": {
        "id": "YIBImGaZ5oVA"
      },
      "source": [
        "import pandas as pd\n",
        "import numpy as np\n",
        "\n",
        "train_df = pd.read_csv('train.csv')\n",
        "test_df = pd.read_csv('test.csv')"
      ],
      "execution_count": 3,
      "outputs": []
    },
    {
      "cell_type": "code",
      "metadata": {
        "colab": {
          "base_uri": "https://localhost:8080/",
          "height": 424
        },
        "id": "t3s6lv0x5oXp",
        "outputId": "10c1de26-85b2-4bca-e840-6c3eb1cb35e4"
      },
      "source": [
        "train_df"
      ],
      "execution_count": 25,
      "outputs": [
        {
          "output_type": "execute_result",
          "data": {
            "text/html": [
              "<div>\n",
              "<style scoped>\n",
              "    .dataframe tbody tr th:only-of-type {\n",
              "        vertical-align: middle;\n",
              "    }\n",
              "\n",
              "    .dataframe tbody tr th {\n",
              "        vertical-align: top;\n",
              "    }\n",
              "\n",
              "    .dataframe thead th {\n",
              "        text-align: right;\n",
              "    }\n",
              "</style>\n",
              "<table border=\"1\" class=\"dataframe\">\n",
              "  <thead>\n",
              "    <tr style=\"text-align: right;\">\n",
              "      <th></th>\n",
              "      <th>id</th>\n",
              "      <th>breath_id</th>\n",
              "      <th>R</th>\n",
              "      <th>C</th>\n",
              "      <th>time_step</th>\n",
              "      <th>u_in</th>\n",
              "      <th>u_out</th>\n",
              "      <th>pressure</th>\n",
              "    </tr>\n",
              "  </thead>\n",
              "  <tbody>\n",
              "    <tr>\n",
              "      <th>0</th>\n",
              "      <td>1</td>\n",
              "      <td>1</td>\n",
              "      <td>20</td>\n",
              "      <td>50</td>\n",
              "      <td>0.000000</td>\n",
              "      <td>0.083334</td>\n",
              "      <td>0</td>\n",
              "      <td>5.837492</td>\n",
              "    </tr>\n",
              "    <tr>\n",
              "      <th>1</th>\n",
              "      <td>2</td>\n",
              "      <td>1</td>\n",
              "      <td>20</td>\n",
              "      <td>50</td>\n",
              "      <td>0.033652</td>\n",
              "      <td>18.383041</td>\n",
              "      <td>0</td>\n",
              "      <td>5.907794</td>\n",
              "    </tr>\n",
              "    <tr>\n",
              "      <th>2</th>\n",
              "      <td>3</td>\n",
              "      <td>1</td>\n",
              "      <td>20</td>\n",
              "      <td>50</td>\n",
              "      <td>0.067514</td>\n",
              "      <td>22.509278</td>\n",
              "      <td>0</td>\n",
              "      <td>7.876254</td>\n",
              "    </tr>\n",
              "    <tr>\n",
              "      <th>3</th>\n",
              "      <td>4</td>\n",
              "      <td>1</td>\n",
              "      <td>20</td>\n",
              "      <td>50</td>\n",
              "      <td>0.101542</td>\n",
              "      <td>22.808822</td>\n",
              "      <td>0</td>\n",
              "      <td>11.742872</td>\n",
              "    </tr>\n",
              "    <tr>\n",
              "      <th>4</th>\n",
              "      <td>5</td>\n",
              "      <td>1</td>\n",
              "      <td>20</td>\n",
              "      <td>50</td>\n",
              "      <td>0.135756</td>\n",
              "      <td>25.355850</td>\n",
              "      <td>0</td>\n",
              "      <td>12.234987</td>\n",
              "    </tr>\n",
              "    <tr>\n",
              "      <th>...</th>\n",
              "      <td>...</td>\n",
              "      <td>...</td>\n",
              "      <td>...</td>\n",
              "      <td>...</td>\n",
              "      <td>...</td>\n",
              "      <td>...</td>\n",
              "      <td>...</td>\n",
              "      <td>...</td>\n",
              "    </tr>\n",
              "    <tr>\n",
              "      <th>6035995</th>\n",
              "      <td>6035996</td>\n",
              "      <td>125749</td>\n",
              "      <td>50</td>\n",
              "      <td>10</td>\n",
              "      <td>2.504603</td>\n",
              "      <td>1.489714</td>\n",
              "      <td>1</td>\n",
              "      <td>3.869032</td>\n",
              "    </tr>\n",
              "    <tr>\n",
              "      <th>6035996</th>\n",
              "      <td>6035997</td>\n",
              "      <td>125749</td>\n",
              "      <td>50</td>\n",
              "      <td>10</td>\n",
              "      <td>2.537961</td>\n",
              "      <td>1.488497</td>\n",
              "      <td>1</td>\n",
              "      <td>3.869032</td>\n",
              "    </tr>\n",
              "    <tr>\n",
              "      <th>6035997</th>\n",
              "      <td>6035998</td>\n",
              "      <td>125749</td>\n",
              "      <td>50</td>\n",
              "      <td>10</td>\n",
              "      <td>2.571408</td>\n",
              "      <td>1.558978</td>\n",
              "      <td>1</td>\n",
              "      <td>3.798729</td>\n",
              "    </tr>\n",
              "    <tr>\n",
              "      <th>6035998</th>\n",
              "      <td>6035999</td>\n",
              "      <td>125749</td>\n",
              "      <td>50</td>\n",
              "      <td>10</td>\n",
              "      <td>2.604744</td>\n",
              "      <td>1.272663</td>\n",
              "      <td>1</td>\n",
              "      <td>4.079938</td>\n",
              "    </tr>\n",
              "    <tr>\n",
              "      <th>6035999</th>\n",
              "      <td>6036000</td>\n",
              "      <td>125749</td>\n",
              "      <td>50</td>\n",
              "      <td>10</td>\n",
              "      <td>2.638017</td>\n",
              "      <td>1.482739</td>\n",
              "      <td>1</td>\n",
              "      <td>3.869032</td>\n",
              "    </tr>\n",
              "  </tbody>\n",
              "</table>\n",
              "<p>6036000 rows × 8 columns</p>\n",
              "</div>"
            ],
            "text/plain": [
              "              id  breath_id   R   C  time_step       u_in  u_out   pressure\n",
              "0              1          1  20  50   0.000000   0.083334      0   5.837492\n",
              "1              2          1  20  50   0.033652  18.383041      0   5.907794\n",
              "2              3          1  20  50   0.067514  22.509278      0   7.876254\n",
              "3              4          1  20  50   0.101542  22.808822      0  11.742872\n",
              "4              5          1  20  50   0.135756  25.355850      0  12.234987\n",
              "...          ...        ...  ..  ..        ...        ...    ...        ...\n",
              "6035995  6035996     125749  50  10   2.504603   1.489714      1   3.869032\n",
              "6035996  6035997     125749  50  10   2.537961   1.488497      1   3.869032\n",
              "6035997  6035998     125749  50  10   2.571408   1.558978      1   3.798729\n",
              "6035998  6035999     125749  50  10   2.604744   1.272663      1   4.079938\n",
              "6035999  6036000     125749  50  10   2.638017   1.482739      1   3.869032\n",
              "\n",
              "[6036000 rows x 8 columns]"
            ]
          },
          "metadata": {},
          "execution_count": 25
        }
      ]
    },
    {
      "cell_type": "code",
      "metadata": {
        "id": "h0lrv5vTLCO2",
        "outputId": "f18bef06-af55-4fb4-b41c-a29fa4191899",
        "colab": {
          "base_uri": "https://localhost:8080/"
        }
      },
      "source": [
        "train_df.info()"
      ],
      "execution_count": 7,
      "outputs": [
        {
          "output_type": "stream",
          "name": "stdout",
          "text": [
            "<class 'pandas.core.frame.DataFrame'>\n",
            "RangeIndex: 6036000 entries, 0 to 6035999\n",
            "Data columns (total 8 columns):\n",
            " #   Column     Dtype  \n",
            "---  ------     -----  \n",
            " 0   id         int64  \n",
            " 1   breath_id  int64  \n",
            " 2   R          int64  \n",
            " 3   C          int64  \n",
            " 4   time_step  float64\n",
            " 5   u_in       float64\n",
            " 6   u_out      int64  \n",
            " 7   pressure   float64\n",
            "dtypes: float64(3), int64(5)\n",
            "memory usage: 368.4 MB\n"
          ]
        }
      ]
    },
    {
      "cell_type": "code",
      "metadata": {
        "id": "M0iu551Z4vYW",
        "outputId": "92f070eb-c4a8-4117-e406-ab2b9648d8b8",
        "colab": {
          "base_uri": "https://localhost:8080/"
        }
      },
      "source": [
        "train_df.isnull().sum()"
      ],
      "execution_count": 9,
      "outputs": [
        {
          "output_type": "execute_result",
          "data": {
            "text/plain": [
              "id           0\n",
              "breath_id    0\n",
              "R            0\n",
              "C            0\n",
              "time_step    0\n",
              "u_in         0\n",
              "u_out        0\n",
              "pressure     0\n",
              "dtype: int64"
            ]
          },
          "metadata": {},
          "execution_count": 9
        }
      ]
    },
    {
      "cell_type": "code",
      "metadata": {
        "id": "C9Jhp-pP4vVy"
      },
      "source": [
        "Y=train_df['pressure']"
      ],
      "execution_count": 10,
      "outputs": []
    },
    {
      "cell_type": "code",
      "metadata": {
        "id": "8hTgk-fx44e1",
        "outputId": "8494079d-0aed-486d-ba9f-72712ca4a919",
        "colab": {
          "base_uri": "https://localhost:8080/"
        }
      },
      "source": [
        "train_df['u_in'].groupby(train_df['breath_id']).sum()"
      ],
      "execution_count": 12,
      "outputs": [
        {
          "output_type": "execute_result",
          "data": {
            "text/plain": [
              "breath_id\n",
              "1         811.680524\n",
              "2         407.499781\n",
              "3         436.607933\n",
              "4         480.179073\n",
              "5         972.724846\n",
              "             ...    \n",
              "125740    269.306691\n",
              "125742    631.366855\n",
              "125743    188.701654\n",
              "125745    464.200704\n",
              "125749    392.912174\n",
              "Name: u_in, Length: 75450, dtype: float64"
            ]
          },
          "metadata": {},
          "execution_count": 12
        }
      ]
    },
    {
      "cell_type": "code",
      "metadata": {
        "id": "e06JUpgS5S9t",
        "outputId": "d812d598-4c1f-48d8-a02a-638121fb85da",
        "colab": {
          "base_uri": "https://localhost:8080/"
        }
      },
      "source": [
        "train_df['u_in'].groupby(train_df['breath_id']).mean()"
      ],
      "execution_count": 18,
      "outputs": [
        {
          "output_type": "execute_result",
          "data": {
            "text/plain": [
              "breath_id\n",
              "1         10.146007\n",
              "2          5.093747\n",
              "3          5.457599\n",
              "4          6.002238\n",
              "5         12.159061\n",
              "            ...    \n",
              "125740     3.366334\n",
              "125742     7.892086\n",
              "125743     2.358771\n",
              "125745     5.802509\n",
              "125749     4.911402\n",
              "Name: u_in, Length: 75450, dtype: float64"
            ]
          },
          "metadata": {},
          "execution_count": 18
        }
      ]
    },
    {
      "cell_type": "code",
      "metadata": {
        "id": "urmHzWfe8ax4",
        "outputId": "da80a1e3-c63f-4b95-e85b-d005fcfcd624",
        "colab": {
          "base_uri": "https://localhost:8080/"
        }
      },
      "source": [
        "train_df['u_in'].groupby(train_df['breath_id']).cumsum()"
      ],
      "execution_count": 32,
      "outputs": [
        {
          "output_type": "execute_result",
          "data": {
            "text/plain": [
              "0            0.083334\n",
              "1           18.466375\n",
              "2           40.975653\n",
              "3           63.784476\n",
              "4           89.140326\n",
              "              ...    \n",
              "6035995    387.109297\n",
              "6035996    388.597794\n",
              "6035997    390.156772\n",
              "6035998    391.429435\n",
              "6035999    392.912174\n",
              "Name: u_in, Length: 6036000, dtype: float64"
            ]
          },
          "metadata": {},
          "execution_count": 32
        }
      ]
    },
    {
      "cell_type": "markdown",
      "metadata": {
        "id": "K6dUp8I58b8I"
      },
      "source": [
        "groupby에서 cumsum은 같은 그룹에서(groupby(train_df['breath_id']))만 누적합을 하는 것이다!!"
      ]
    },
    {
      "cell_type": "code",
      "metadata": {
        "id": "WTqwuaMX6zv0",
        "outputId": "1c516b94-95da-42a3-8acc-1c2ac7caffa2",
        "colab": {
          "base_uri": "https://localhost:8080/"
        }
      },
      "source": [
        "train_df['u_in'].groupby(train_df['breath_id']).cumsum()[70:81]"
      ],
      "execution_count": 31,
      "outputs": [
        {
          "output_type": "execute_result",
          "data": {
            "text/plain": [
              "70    766.933025\n",
              "71    771.882629\n",
              "72    776.840094\n",
              "73    781.804230\n",
              "74    786.773959\n",
              "75    791.748433\n",
              "76    796.726915\n",
              "77    801.708762\n",
              "78    806.693445\n",
              "79    811.680524\n",
              "80     12.184338\n",
              "Name: u_in, dtype: float64"
            ]
          },
          "metadata": {},
          "execution_count": 31
        }
      ]
    },
    {
      "cell_type": "code",
      "metadata": {
        "id": "v6JBnVra8BlS",
        "outputId": "e16592bb-921c-4615-e97f-5e1c905ebed3",
        "colab": {
          "base_uri": "https://localhost:8080/"
        }
      },
      "source": [
        "train_df[train_df['breath_id'] == 1].u_in.sum()"
      ],
      "execution_count": 30,
      "outputs": [
        {
          "output_type": "execute_result",
          "data": {
            "text/plain": [
              "811.6805241019604"
            ]
          },
          "metadata": {},
          "execution_count": 30
        }
      ]
    },
    {
      "cell_type": "code",
      "metadata": {
        "id": "UcWPHq5s4vRi"
      },
      "source": [
        "train_df['u_in_cumsum'] = (train_df['u_in']).groupby(train_df['breath_id']).cumsum()\n",
        "test_df['u_in_cumsum'] = (test_df['u_in']).groupby(test_df['breath_id']).cumsum()"
      ],
      "execution_count": 33,
      "outputs": []
    },
    {
      "cell_type": "code",
      "metadata": {
        "id": "1v7NBQ6W4vOQ"
      },
      "source": [
        "from sklearn.feature_selection import mutual_info_regression\n",
        "# Mutual info regression will provide a mesure of dependence between the Features and Traget-variable\n",
        "\n",
        "xtr=train_df.drop(['pressure','id'],axis=1)[:70000]\n",
        "# Visualizing the dependence using first 70,000 rows\n",
        "\n",
        "ytr=train_df['pressure'][:70000]"
      ],
      "execution_count": 34,
      "outputs": []
    },
    {
      "cell_type": "code",
      "metadata": {
        "id": "16iyH_qs4vLH",
        "outputId": "98c6da6b-697a-4723-c5e2-43b4065af38f",
        "colab": {
          "base_uri": "https://localhost:8080/"
        }
      },
      "source": [
        "mi_score=mutual_info_regression(xtr,ytr)\n",
        "# Providing the features and Target-variable as input\n",
        "\n",
        "mi_score=pd.Series(mi_score,index=xtr.columns)\n",
        "#converting the scores to a pandas series and providing the columns as index for the scores\n",
        "\n",
        "mi_score=mi_score.sort_values(ascending=False)\n",
        "# Sorting the scores in descending order\n",
        "\n",
        "mi_score*100\n",
        "# Getting the percentage-dependece out of 100"
      ],
      "execution_count": 35,
      "outputs": [
        {
          "output_type": "execute_result",
          "data": {
            "text/plain": [
              "time_step      73.004392\n",
              "u_in           45.271698\n",
              "breath_id      36.599210\n",
              "u_out          30.552758\n",
              "u_in_cumsum    28.981456\n",
              "R               5.586585\n",
              "C               5.071199\n",
              "dtype: float64"
            ]
          },
          "metadata": {},
          "execution_count": 35
        }
      ]
    },
    {
      "cell_type": "code",
      "metadata": {
        "id": "eCFSGWz04vIO"
      },
      "source": [
        "from sklearn.preprocessing import StandardScaler\n",
        "xtr=StandardScaler().fit_transform(train_df.drop(['pressure','R','C','id'],axis=1))\n",
        "xte=StandardScaler().fit_transform(test_df.drop(['R','C','id'],axis=1))"
      ],
      "execution_count": 36,
      "outputs": []
    },
    {
      "cell_type": "code",
      "metadata": {
        "id": "842RHagw4vF7"
      },
      "source": [
        ""
      ],
      "execution_count": null,
      "outputs": []
    },
    {
      "cell_type": "code",
      "metadata": {
        "id": "URWaF6XM4vDV"
      },
      "source": [
        ""
      ],
      "execution_count": null,
      "outputs": []
    },
    {
      "cell_type": "code",
      "metadata": {
        "id": "9meNxlmM4vAo"
      },
      "source": [
        ""
      ],
      "execution_count": null,
      "outputs": []
    },
    {
      "cell_type": "code",
      "metadata": {
        "id": "NQrlw5aH4u96"
      },
      "source": [
        ""
      ],
      "execution_count": null,
      "outputs": []
    },
    {
      "cell_type": "code",
      "metadata": {
        "id": "PgtbMHVO4u6_"
      },
      "source": [
        ""
      ],
      "execution_count": null,
      "outputs": []
    }
  ]
}