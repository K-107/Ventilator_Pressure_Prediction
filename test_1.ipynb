{
  "nbformat": 4,
  "nbformat_minor": 0,
  "metadata": {
    "colab": {
      "name": "test_1.ipynb",
      "provenance": [],
      "mount_file_id": "https://github.com/K-107/Ventilator_Pressure_Prediction/blob/main/test_1.ipynb",
      "authorship_tag": "ABX9TyM1kC2PHcGcuGe1hBSFOVLl",
      "include_colab_link": true
    },
    "kernelspec": {
      "name": "python3",
      "display_name": "Python 3"
    },
    "language_info": {
      "name": "python"
    }
  },
  "cells": [
    {
      "cell_type": "markdown",
      "metadata": {
        "id": "view-in-github",
        "colab_type": "text"
      },
      "source": [
        "<a href=\"https://colab.research.google.com/github/K-107/Ventilator_Pressure_Prediction/blob/main/test_1.ipynb\" target=\"_parent\"><img src=\"https://colab.research.google.com/assets/colab-badge.svg\" alt=\"Open In Colab\"/></a>"
      ]
    },
    {
      "cell_type": "markdown",
      "metadata": {
        "id": "3Mi630iM8fBb"
      },
      "source": [
        "# https://www.kaggle.com/n3n77i/kaggle-breathdata"
      ]
    },
    {
      "cell_type": "code",
      "metadata": {
        "colab": {
          "base_uri": "https://localhost:8080/"
        },
        "id": "S_X00FnTw-8d",
        "outputId": "c09f99ad-b9c9-4743-bc6b-f894bb168831"
      },
      "source": [
        "% cd /content/drive/MyDrive/Ventilator_Pressure_Prediction"
      ],
      "execution_count": 1,
      "outputs": [
        {
          "output_type": "stream",
          "name": "stdout",
          "text": [
            "/content/drive/MyDrive/Ventilator_Pressure_Prediction\n"
          ]
        }
      ]
    },
    {
      "cell_type": "code",
      "metadata": {
        "id": "YIBImGaZ5oVA"
      },
      "source": [
        "import pandas as pd\n",
        "import numpy as np\n",
        "\n",
        "train_df = pd.read_csv('train.csv')\n",
        "test_df = pd.read_csv('test.csv')"
      ],
      "execution_count": 2,
      "outputs": []
    },
    {
      "cell_type": "markdown",
      "metadata": {
        "id": "uoin-kUn-gMt"
      },
      "source": [
        "## 컬럼 이름들만 for문으로 잡는 법"
      ]
    },
    {
      "cell_type": "code",
      "metadata": {
        "id": "AqYc4k1P-afD",
        "outputId": "a08972cc-e52f-43df-cc20-586699c986dd",
        "colab": {
          "base_uri": "https://localhost:8080/"
        }
      },
      "source": [
        "for x in train_df:\n",
        "  print(x)"
      ],
      "execution_count": 56,
      "outputs": [
        {
          "output_type": "stream",
          "name": "stdout",
          "text": [
            "id\n",
            "breath_id\n",
            "R\n",
            "C\n",
            "time_step\n",
            "u_in\n",
            "u_out\n",
            "pressure\n"
          ]
        }
      ]
    },
    {
      "cell_type": "code",
      "metadata": {
        "id": "j-iDJa17-CEO"
      },
      "source": [
        "labels = [x for x in train_df]"
      ],
      "execution_count": 57,
      "outputs": []
    },
    {
      "cell_type": "code",
      "metadata": {
        "id": "2LoSrDOj-CAS",
        "outputId": "66eff76a-73ad-463f-8f81-5e6dcdd29e18",
        "colab": {
          "base_uri": "https://localhost:8080/"
        }
      },
      "source": [
        "labels"
      ],
      "execution_count": 58,
      "outputs": [
        {
          "output_type": "execute_result",
          "data": {
            "text/plain": [
              "['id', 'breath_id', 'R', 'C', 'time_step', 'u_in', 'u_out', 'pressure']"
            ]
          },
          "metadata": {},
          "execution_count": 58
        }
      ]
    },
    {
      "cell_type": "markdown",
      "metadata": {
        "id": "Ol5rj8Mx_L9w"
      },
      "source": [
        "# https://www.kaggle.com/sagarikajadon/lag-features-and-lgbm-baseline-cv-0-59"
      ]
    },
    {
      "cell_type": "code",
      "metadata": {
        "id": "jm1ultP0_T6p"
      },
      "source": [
        "df = pd.read_csv('train.csv')"
      ],
      "execution_count": 65,
      "outputs": []
    },
    {
      "cell_type": "code",
      "metadata": {
        "id": "wQ6KLHhR_YpR",
        "outputId": "589bf24f-f35e-4bf9-82e3-63fd4c3ad0c4",
        "colab": {
          "base_uri": "https://localhost:8080/",
          "height": 424
        }
      },
      "source": [
        "df"
      ],
      "execution_count": 60,
      "outputs": [
        {
          "output_type": "execute_result",
          "data": {
            "text/html": [
              "<div>\n",
              "<style scoped>\n",
              "    .dataframe tbody tr th:only-of-type {\n",
              "        vertical-align: middle;\n",
              "    }\n",
              "\n",
              "    .dataframe tbody tr th {\n",
              "        vertical-align: top;\n",
              "    }\n",
              "\n",
              "    .dataframe thead th {\n",
              "        text-align: right;\n",
              "    }\n",
              "</style>\n",
              "<table border=\"1\" class=\"dataframe\">\n",
              "  <thead>\n",
              "    <tr style=\"text-align: right;\">\n",
              "      <th></th>\n",
              "      <th>id</th>\n",
              "      <th>breath_id</th>\n",
              "      <th>R</th>\n",
              "      <th>C</th>\n",
              "      <th>time_step</th>\n",
              "      <th>u_in</th>\n",
              "      <th>u_out</th>\n",
              "      <th>pressure</th>\n",
              "    </tr>\n",
              "  </thead>\n",
              "  <tbody>\n",
              "    <tr>\n",
              "      <th>0</th>\n",
              "      <td>1</td>\n",
              "      <td>1</td>\n",
              "      <td>20</td>\n",
              "      <td>50</td>\n",
              "      <td>0.000000</td>\n",
              "      <td>0.083334</td>\n",
              "      <td>0</td>\n",
              "      <td>5.837492</td>\n",
              "    </tr>\n",
              "    <tr>\n",
              "      <th>1</th>\n",
              "      <td>2</td>\n",
              "      <td>1</td>\n",
              "      <td>20</td>\n",
              "      <td>50</td>\n",
              "      <td>0.033652</td>\n",
              "      <td>18.383041</td>\n",
              "      <td>0</td>\n",
              "      <td>5.907794</td>\n",
              "    </tr>\n",
              "    <tr>\n",
              "      <th>2</th>\n",
              "      <td>3</td>\n",
              "      <td>1</td>\n",
              "      <td>20</td>\n",
              "      <td>50</td>\n",
              "      <td>0.067514</td>\n",
              "      <td>22.509278</td>\n",
              "      <td>0</td>\n",
              "      <td>7.876254</td>\n",
              "    </tr>\n",
              "    <tr>\n",
              "      <th>3</th>\n",
              "      <td>4</td>\n",
              "      <td>1</td>\n",
              "      <td>20</td>\n",
              "      <td>50</td>\n",
              "      <td>0.101542</td>\n",
              "      <td>22.808822</td>\n",
              "      <td>0</td>\n",
              "      <td>11.742872</td>\n",
              "    </tr>\n",
              "    <tr>\n",
              "      <th>4</th>\n",
              "      <td>5</td>\n",
              "      <td>1</td>\n",
              "      <td>20</td>\n",
              "      <td>50</td>\n",
              "      <td>0.135756</td>\n",
              "      <td>25.355850</td>\n",
              "      <td>0</td>\n",
              "      <td>12.234987</td>\n",
              "    </tr>\n",
              "    <tr>\n",
              "      <th>...</th>\n",
              "      <td>...</td>\n",
              "      <td>...</td>\n",
              "      <td>...</td>\n",
              "      <td>...</td>\n",
              "      <td>...</td>\n",
              "      <td>...</td>\n",
              "      <td>...</td>\n",
              "      <td>...</td>\n",
              "    </tr>\n",
              "    <tr>\n",
              "      <th>6035995</th>\n",
              "      <td>6035996</td>\n",
              "      <td>125749</td>\n",
              "      <td>50</td>\n",
              "      <td>10</td>\n",
              "      <td>2.504603</td>\n",
              "      <td>1.489714</td>\n",
              "      <td>1</td>\n",
              "      <td>3.869032</td>\n",
              "    </tr>\n",
              "    <tr>\n",
              "      <th>6035996</th>\n",
              "      <td>6035997</td>\n",
              "      <td>125749</td>\n",
              "      <td>50</td>\n",
              "      <td>10</td>\n",
              "      <td>2.537961</td>\n",
              "      <td>1.488497</td>\n",
              "      <td>1</td>\n",
              "      <td>3.869032</td>\n",
              "    </tr>\n",
              "    <tr>\n",
              "      <th>6035997</th>\n",
              "      <td>6035998</td>\n",
              "      <td>125749</td>\n",
              "      <td>50</td>\n",
              "      <td>10</td>\n",
              "      <td>2.571408</td>\n",
              "      <td>1.558978</td>\n",
              "      <td>1</td>\n",
              "      <td>3.798729</td>\n",
              "    </tr>\n",
              "    <tr>\n",
              "      <th>6035998</th>\n",
              "      <td>6035999</td>\n",
              "      <td>125749</td>\n",
              "      <td>50</td>\n",
              "      <td>10</td>\n",
              "      <td>2.604744</td>\n",
              "      <td>1.272663</td>\n",
              "      <td>1</td>\n",
              "      <td>4.079938</td>\n",
              "    </tr>\n",
              "    <tr>\n",
              "      <th>6035999</th>\n",
              "      <td>6036000</td>\n",
              "      <td>125749</td>\n",
              "      <td>50</td>\n",
              "      <td>10</td>\n",
              "      <td>2.638017</td>\n",
              "      <td>1.482739</td>\n",
              "      <td>1</td>\n",
              "      <td>3.869032</td>\n",
              "    </tr>\n",
              "  </tbody>\n",
              "</table>\n",
              "<p>6036000 rows × 8 columns</p>\n",
              "</div>"
            ],
            "text/plain": [
              "              id  breath_id   R   C  time_step       u_in  u_out   pressure\n",
              "0              1          1  20  50   0.000000   0.083334      0   5.837492\n",
              "1              2          1  20  50   0.033652  18.383041      0   5.907794\n",
              "2              3          1  20  50   0.067514  22.509278      0   7.876254\n",
              "3              4          1  20  50   0.101542  22.808822      0  11.742872\n",
              "4              5          1  20  50   0.135756  25.355850      0  12.234987\n",
              "...          ...        ...  ..  ..        ...        ...    ...        ...\n",
              "6035995  6035996     125749  50  10   2.504603   1.489714      1   3.869032\n",
              "6035996  6035997     125749  50  10   2.537961   1.488497      1   3.869032\n",
              "6035997  6035998     125749  50  10   2.571408   1.558978      1   3.798729\n",
              "6035998  6035999     125749  50  10   2.604744   1.272663      1   4.079938\n",
              "6035999  6036000     125749  50  10   2.638017   1.482739      1   3.869032\n",
              "\n",
              "[6036000 rows x 8 columns]"
            ]
          },
          "metadata": {},
          "execution_count": 60
        }
      ]
    },
    {
      "cell_type": "code",
      "metadata": {
        "id": "E4V3PPRHAIwp",
        "outputId": "77ccbef6-cf59-49db-c830-214bf58442b5",
        "colab": {
          "base_uri": "https://localhost:8080/",
          "height": 424
        }
      },
      "source": [
        "pd.get_dummies(df['R'], prefix= \"R_\")"
      ],
      "execution_count": 61,
      "outputs": [
        {
          "output_type": "execute_result",
          "data": {
            "text/html": [
              "<div>\n",
              "<style scoped>\n",
              "    .dataframe tbody tr th:only-of-type {\n",
              "        vertical-align: middle;\n",
              "    }\n",
              "\n",
              "    .dataframe tbody tr th {\n",
              "        vertical-align: top;\n",
              "    }\n",
              "\n",
              "    .dataframe thead th {\n",
              "        text-align: right;\n",
              "    }\n",
              "</style>\n",
              "<table border=\"1\" class=\"dataframe\">\n",
              "  <thead>\n",
              "    <tr style=\"text-align: right;\">\n",
              "      <th></th>\n",
              "      <th>R__5</th>\n",
              "      <th>R__20</th>\n",
              "      <th>R__50</th>\n",
              "    </tr>\n",
              "  </thead>\n",
              "  <tbody>\n",
              "    <tr>\n",
              "      <th>0</th>\n",
              "      <td>0</td>\n",
              "      <td>1</td>\n",
              "      <td>0</td>\n",
              "    </tr>\n",
              "    <tr>\n",
              "      <th>1</th>\n",
              "      <td>0</td>\n",
              "      <td>1</td>\n",
              "      <td>0</td>\n",
              "    </tr>\n",
              "    <tr>\n",
              "      <th>2</th>\n",
              "      <td>0</td>\n",
              "      <td>1</td>\n",
              "      <td>0</td>\n",
              "    </tr>\n",
              "    <tr>\n",
              "      <th>3</th>\n",
              "      <td>0</td>\n",
              "      <td>1</td>\n",
              "      <td>0</td>\n",
              "    </tr>\n",
              "    <tr>\n",
              "      <th>4</th>\n",
              "      <td>0</td>\n",
              "      <td>1</td>\n",
              "      <td>0</td>\n",
              "    </tr>\n",
              "    <tr>\n",
              "      <th>...</th>\n",
              "      <td>...</td>\n",
              "      <td>...</td>\n",
              "      <td>...</td>\n",
              "    </tr>\n",
              "    <tr>\n",
              "      <th>6035995</th>\n",
              "      <td>0</td>\n",
              "      <td>0</td>\n",
              "      <td>1</td>\n",
              "    </tr>\n",
              "    <tr>\n",
              "      <th>6035996</th>\n",
              "      <td>0</td>\n",
              "      <td>0</td>\n",
              "      <td>1</td>\n",
              "    </tr>\n",
              "    <tr>\n",
              "      <th>6035997</th>\n",
              "      <td>0</td>\n",
              "      <td>0</td>\n",
              "      <td>1</td>\n",
              "    </tr>\n",
              "    <tr>\n",
              "      <th>6035998</th>\n",
              "      <td>0</td>\n",
              "      <td>0</td>\n",
              "      <td>1</td>\n",
              "    </tr>\n",
              "    <tr>\n",
              "      <th>6035999</th>\n",
              "      <td>0</td>\n",
              "      <td>0</td>\n",
              "      <td>1</td>\n",
              "    </tr>\n",
              "  </tbody>\n",
              "</table>\n",
              "<p>6036000 rows × 3 columns</p>\n",
              "</div>"
            ],
            "text/plain": [
              "         R__5  R__20  R__50\n",
              "0           0      1      0\n",
              "1           0      1      0\n",
              "2           0      1      0\n",
              "3           0      1      0\n",
              "4           0      1      0\n",
              "...       ...    ...    ...\n",
              "6035995     0      0      1\n",
              "6035996     0      0      1\n",
              "6035997     0      0      1\n",
              "6035998     0      0      1\n",
              "6035999     0      0      1\n",
              "\n",
              "[6036000 rows x 3 columns]"
            ]
          },
          "metadata": {},
          "execution_count": 61
        }
      ]
    },
    {
      "cell_type": "code",
      "metadata": {
        "id": "x6LsANQ0-B9a"
      },
      "source": [
        "#categorical features\n",
        "dfr= pd.get_dummies(df['R'], prefix= \"R_\")\n",
        "df= pd.concat([df, dfr], axis= 1)\n",
        "dfc= pd.get_dummies(df['C'], prefix= \"C_\")\n",
        "df= pd.concat([df, dfc], axis= 1)\n",
        "df= df.drop(['R', 'C'], axis= 1)"
      ],
      "execution_count": 62,
      "outputs": []
    },
    {
      "cell_type": "code",
      "metadata": {
        "id": "RKhjEmmF-B6r",
        "outputId": "df12e072-8911-4980-ff34-e71354166ecf",
        "colab": {
          "base_uri": "https://localhost:8080/",
          "height": 444
        }
      },
      "source": [
        "df"
      ],
      "execution_count": 63,
      "outputs": [
        {
          "output_type": "execute_result",
          "data": {
            "text/html": [
              "<div>\n",
              "<style scoped>\n",
              "    .dataframe tbody tr th:only-of-type {\n",
              "        vertical-align: middle;\n",
              "    }\n",
              "\n",
              "    .dataframe tbody tr th {\n",
              "        vertical-align: top;\n",
              "    }\n",
              "\n",
              "    .dataframe thead th {\n",
              "        text-align: right;\n",
              "    }\n",
              "</style>\n",
              "<table border=\"1\" class=\"dataframe\">\n",
              "  <thead>\n",
              "    <tr style=\"text-align: right;\">\n",
              "      <th></th>\n",
              "      <th>id</th>\n",
              "      <th>breath_id</th>\n",
              "      <th>time_step</th>\n",
              "      <th>u_in</th>\n",
              "      <th>u_out</th>\n",
              "      <th>pressure</th>\n",
              "      <th>R__5</th>\n",
              "      <th>R__20</th>\n",
              "      <th>R__50</th>\n",
              "      <th>C__10</th>\n",
              "      <th>C__20</th>\n",
              "      <th>C__50</th>\n",
              "    </tr>\n",
              "  </thead>\n",
              "  <tbody>\n",
              "    <tr>\n",
              "      <th>0</th>\n",
              "      <td>1</td>\n",
              "      <td>1</td>\n",
              "      <td>0.000000</td>\n",
              "      <td>0.083334</td>\n",
              "      <td>0</td>\n",
              "      <td>5.837492</td>\n",
              "      <td>0</td>\n",
              "      <td>1</td>\n",
              "      <td>0</td>\n",
              "      <td>0</td>\n",
              "      <td>0</td>\n",
              "      <td>1</td>\n",
              "    </tr>\n",
              "    <tr>\n",
              "      <th>1</th>\n",
              "      <td>2</td>\n",
              "      <td>1</td>\n",
              "      <td>0.033652</td>\n",
              "      <td>18.383041</td>\n",
              "      <td>0</td>\n",
              "      <td>5.907794</td>\n",
              "      <td>0</td>\n",
              "      <td>1</td>\n",
              "      <td>0</td>\n",
              "      <td>0</td>\n",
              "      <td>0</td>\n",
              "      <td>1</td>\n",
              "    </tr>\n",
              "    <tr>\n",
              "      <th>2</th>\n",
              "      <td>3</td>\n",
              "      <td>1</td>\n",
              "      <td>0.067514</td>\n",
              "      <td>22.509278</td>\n",
              "      <td>0</td>\n",
              "      <td>7.876254</td>\n",
              "      <td>0</td>\n",
              "      <td>1</td>\n",
              "      <td>0</td>\n",
              "      <td>0</td>\n",
              "      <td>0</td>\n",
              "      <td>1</td>\n",
              "    </tr>\n",
              "    <tr>\n",
              "      <th>3</th>\n",
              "      <td>4</td>\n",
              "      <td>1</td>\n",
              "      <td>0.101542</td>\n",
              "      <td>22.808822</td>\n",
              "      <td>0</td>\n",
              "      <td>11.742872</td>\n",
              "      <td>0</td>\n",
              "      <td>1</td>\n",
              "      <td>0</td>\n",
              "      <td>0</td>\n",
              "      <td>0</td>\n",
              "      <td>1</td>\n",
              "    </tr>\n",
              "    <tr>\n",
              "      <th>4</th>\n",
              "      <td>5</td>\n",
              "      <td>1</td>\n",
              "      <td>0.135756</td>\n",
              "      <td>25.355850</td>\n",
              "      <td>0</td>\n",
              "      <td>12.234987</td>\n",
              "      <td>0</td>\n",
              "      <td>1</td>\n",
              "      <td>0</td>\n",
              "      <td>0</td>\n",
              "      <td>0</td>\n",
              "      <td>1</td>\n",
              "    </tr>\n",
              "    <tr>\n",
              "      <th>...</th>\n",
              "      <td>...</td>\n",
              "      <td>...</td>\n",
              "      <td>...</td>\n",
              "      <td>...</td>\n",
              "      <td>...</td>\n",
              "      <td>...</td>\n",
              "      <td>...</td>\n",
              "      <td>...</td>\n",
              "      <td>...</td>\n",
              "      <td>...</td>\n",
              "      <td>...</td>\n",
              "      <td>...</td>\n",
              "    </tr>\n",
              "    <tr>\n",
              "      <th>6035995</th>\n",
              "      <td>6035996</td>\n",
              "      <td>125749</td>\n",
              "      <td>2.504603</td>\n",
              "      <td>1.489714</td>\n",
              "      <td>1</td>\n",
              "      <td>3.869032</td>\n",
              "      <td>0</td>\n",
              "      <td>0</td>\n",
              "      <td>1</td>\n",
              "      <td>1</td>\n",
              "      <td>0</td>\n",
              "      <td>0</td>\n",
              "    </tr>\n",
              "    <tr>\n",
              "      <th>6035996</th>\n",
              "      <td>6035997</td>\n",
              "      <td>125749</td>\n",
              "      <td>2.537961</td>\n",
              "      <td>1.488497</td>\n",
              "      <td>1</td>\n",
              "      <td>3.869032</td>\n",
              "      <td>0</td>\n",
              "      <td>0</td>\n",
              "      <td>1</td>\n",
              "      <td>1</td>\n",
              "      <td>0</td>\n",
              "      <td>0</td>\n",
              "    </tr>\n",
              "    <tr>\n",
              "      <th>6035997</th>\n",
              "      <td>6035998</td>\n",
              "      <td>125749</td>\n",
              "      <td>2.571408</td>\n",
              "      <td>1.558978</td>\n",
              "      <td>1</td>\n",
              "      <td>3.798729</td>\n",
              "      <td>0</td>\n",
              "      <td>0</td>\n",
              "      <td>1</td>\n",
              "      <td>1</td>\n",
              "      <td>0</td>\n",
              "      <td>0</td>\n",
              "    </tr>\n",
              "    <tr>\n",
              "      <th>6035998</th>\n",
              "      <td>6035999</td>\n",
              "      <td>125749</td>\n",
              "      <td>2.604744</td>\n",
              "      <td>1.272663</td>\n",
              "      <td>1</td>\n",
              "      <td>4.079938</td>\n",
              "      <td>0</td>\n",
              "      <td>0</td>\n",
              "      <td>1</td>\n",
              "      <td>1</td>\n",
              "      <td>0</td>\n",
              "      <td>0</td>\n",
              "    </tr>\n",
              "    <tr>\n",
              "      <th>6035999</th>\n",
              "      <td>6036000</td>\n",
              "      <td>125749</td>\n",
              "      <td>2.638017</td>\n",
              "      <td>1.482739</td>\n",
              "      <td>1</td>\n",
              "      <td>3.869032</td>\n",
              "      <td>0</td>\n",
              "      <td>0</td>\n",
              "      <td>1</td>\n",
              "      <td>1</td>\n",
              "      <td>0</td>\n",
              "      <td>0</td>\n",
              "    </tr>\n",
              "  </tbody>\n",
              "</table>\n",
              "<p>6036000 rows × 12 columns</p>\n",
              "</div>"
            ],
            "text/plain": [
              "              id  breath_id  time_step       u_in  ...  R__50  C__10  C__20  C__50\n",
              "0              1          1   0.000000   0.083334  ...      0      0      0      1\n",
              "1              2          1   0.033652  18.383041  ...      0      0      0      1\n",
              "2              3          1   0.067514  22.509278  ...      0      0      0      1\n",
              "3              4          1   0.101542  22.808822  ...      0      0      0      1\n",
              "4              5          1   0.135756  25.355850  ...      0      0      0      1\n",
              "...          ...        ...        ...        ...  ...    ...    ...    ...    ...\n",
              "6035995  6035996     125749   2.504603   1.489714  ...      1      1      0      0\n",
              "6035996  6035997     125749   2.537961   1.488497  ...      1      1      0      0\n",
              "6035997  6035998     125749   2.571408   1.558978  ...      1      1      0      0\n",
              "6035998  6035999     125749   2.604744   1.272663  ...      1      1      0      0\n",
              "6035999  6036000     125749   2.638017   1.482739  ...      1      1      0      0\n",
              "\n",
              "[6036000 rows x 12 columns]"
            ]
          },
          "metadata": {},
          "execution_count": 63
        }
      ]
    },
    {
      "cell_type": "code",
      "metadata": {
        "id": "zvjGLDZq-B3i",
        "outputId": "d5a5abaa-7d0d-41e7-8319-07e6321ff992",
        "colab": {
          "base_uri": "https://localhost:8080/",
          "height": 444
        }
      },
      "source": [
        "df['u_in_cumsum']= df['u_in'].groupby(df['breath_id']).cumsum()\n",
        "df['time_step_cumsum']= df['time_step'].groupby(df['breath_id']).cumsum()\n",
        "df"
      ],
      "execution_count": 64,
      "outputs": [
        {
          "output_type": "execute_result",
          "data": {
            "text/html": [
              "<div>\n",
              "<style scoped>\n",
              "    .dataframe tbody tr th:only-of-type {\n",
              "        vertical-align: middle;\n",
              "    }\n",
              "\n",
              "    .dataframe tbody tr th {\n",
              "        vertical-align: top;\n",
              "    }\n",
              "\n",
              "    .dataframe thead th {\n",
              "        text-align: right;\n",
              "    }\n",
              "</style>\n",
              "<table border=\"1\" class=\"dataframe\">\n",
              "  <thead>\n",
              "    <tr style=\"text-align: right;\">\n",
              "      <th></th>\n",
              "      <th>id</th>\n",
              "      <th>breath_id</th>\n",
              "      <th>time_step</th>\n",
              "      <th>u_in</th>\n",
              "      <th>u_out</th>\n",
              "      <th>pressure</th>\n",
              "      <th>R__5</th>\n",
              "      <th>R__20</th>\n",
              "      <th>R__50</th>\n",
              "      <th>C__10</th>\n",
              "      <th>C__20</th>\n",
              "      <th>C__50</th>\n",
              "      <th>u_in_cumsum</th>\n",
              "      <th>time_step_cumsum</th>\n",
              "    </tr>\n",
              "  </thead>\n",
              "  <tbody>\n",
              "    <tr>\n",
              "      <th>0</th>\n",
              "      <td>1</td>\n",
              "      <td>1</td>\n",
              "      <td>0.000000</td>\n",
              "      <td>0.083334</td>\n",
              "      <td>0</td>\n",
              "      <td>5.837492</td>\n",
              "      <td>0</td>\n",
              "      <td>1</td>\n",
              "      <td>0</td>\n",
              "      <td>0</td>\n",
              "      <td>0</td>\n",
              "      <td>1</td>\n",
              "      <td>0.083334</td>\n",
              "      <td>0.000000</td>\n",
              "    </tr>\n",
              "    <tr>\n",
              "      <th>1</th>\n",
              "      <td>2</td>\n",
              "      <td>1</td>\n",
              "      <td>0.033652</td>\n",
              "      <td>18.383041</td>\n",
              "      <td>0</td>\n",
              "      <td>5.907794</td>\n",
              "      <td>0</td>\n",
              "      <td>1</td>\n",
              "      <td>0</td>\n",
              "      <td>0</td>\n",
              "      <td>0</td>\n",
              "      <td>1</td>\n",
              "      <td>18.466375</td>\n",
              "      <td>0.033652</td>\n",
              "    </tr>\n",
              "    <tr>\n",
              "      <th>2</th>\n",
              "      <td>3</td>\n",
              "      <td>1</td>\n",
              "      <td>0.067514</td>\n",
              "      <td>22.509278</td>\n",
              "      <td>0</td>\n",
              "      <td>7.876254</td>\n",
              "      <td>0</td>\n",
              "      <td>1</td>\n",
              "      <td>0</td>\n",
              "      <td>0</td>\n",
              "      <td>0</td>\n",
              "      <td>1</td>\n",
              "      <td>40.975653</td>\n",
              "      <td>0.101167</td>\n",
              "    </tr>\n",
              "    <tr>\n",
              "      <th>3</th>\n",
              "      <td>4</td>\n",
              "      <td>1</td>\n",
              "      <td>0.101542</td>\n",
              "      <td>22.808822</td>\n",
              "      <td>0</td>\n",
              "      <td>11.742872</td>\n",
              "      <td>0</td>\n",
              "      <td>1</td>\n",
              "      <td>0</td>\n",
              "      <td>0</td>\n",
              "      <td>0</td>\n",
              "      <td>1</td>\n",
              "      <td>63.784476</td>\n",
              "      <td>0.202709</td>\n",
              "    </tr>\n",
              "    <tr>\n",
              "      <th>4</th>\n",
              "      <td>5</td>\n",
              "      <td>1</td>\n",
              "      <td>0.135756</td>\n",
              "      <td>25.355850</td>\n",
              "      <td>0</td>\n",
              "      <td>12.234987</td>\n",
              "      <td>0</td>\n",
              "      <td>1</td>\n",
              "      <td>0</td>\n",
              "      <td>0</td>\n",
              "      <td>0</td>\n",
              "      <td>1</td>\n",
              "      <td>89.140326</td>\n",
              "      <td>0.338464</td>\n",
              "    </tr>\n",
              "    <tr>\n",
              "      <th>...</th>\n",
              "      <td>...</td>\n",
              "      <td>...</td>\n",
              "      <td>...</td>\n",
              "      <td>...</td>\n",
              "      <td>...</td>\n",
              "      <td>...</td>\n",
              "      <td>...</td>\n",
              "      <td>...</td>\n",
              "      <td>...</td>\n",
              "      <td>...</td>\n",
              "      <td>...</td>\n",
              "      <td>...</td>\n",
              "      <td>...</td>\n",
              "      <td>...</td>\n",
              "    </tr>\n",
              "    <tr>\n",
              "      <th>6035995</th>\n",
              "      <td>6035996</td>\n",
              "      <td>125749</td>\n",
              "      <td>2.504603</td>\n",
              "      <td>1.489714</td>\n",
              "      <td>1</td>\n",
              "      <td>3.869032</td>\n",
              "      <td>0</td>\n",
              "      <td>0</td>\n",
              "      <td>1</td>\n",
              "      <td>1</td>\n",
              "      <td>0</td>\n",
              "      <td>0</td>\n",
              "      <td>387.109297</td>\n",
              "      <td>95.147046</td>\n",
              "    </tr>\n",
              "    <tr>\n",
              "      <th>6035996</th>\n",
              "      <td>6035997</td>\n",
              "      <td>125749</td>\n",
              "      <td>2.537961</td>\n",
              "      <td>1.488497</td>\n",
              "      <td>1</td>\n",
              "      <td>3.869032</td>\n",
              "      <td>0</td>\n",
              "      <td>0</td>\n",
              "      <td>1</td>\n",
              "      <td>1</td>\n",
              "      <td>0</td>\n",
              "      <td>0</td>\n",
              "      <td>388.597794</td>\n",
              "      <td>97.685006</td>\n",
              "    </tr>\n",
              "    <tr>\n",
              "      <th>6035997</th>\n",
              "      <td>6035998</td>\n",
              "      <td>125749</td>\n",
              "      <td>2.571408</td>\n",
              "      <td>1.558978</td>\n",
              "      <td>1</td>\n",
              "      <td>3.798729</td>\n",
              "      <td>0</td>\n",
              "      <td>0</td>\n",
              "      <td>1</td>\n",
              "      <td>1</td>\n",
              "      <td>0</td>\n",
              "      <td>0</td>\n",
              "      <td>390.156772</td>\n",
              "      <td>100.256414</td>\n",
              "    </tr>\n",
              "    <tr>\n",
              "      <th>6035998</th>\n",
              "      <td>6035999</td>\n",
              "      <td>125749</td>\n",
              "      <td>2.604744</td>\n",
              "      <td>1.272663</td>\n",
              "      <td>1</td>\n",
              "      <td>4.079938</td>\n",
              "      <td>0</td>\n",
              "      <td>0</td>\n",
              "      <td>1</td>\n",
              "      <td>1</td>\n",
              "      <td>0</td>\n",
              "      <td>0</td>\n",
              "      <td>391.429435</td>\n",
              "      <td>102.861158</td>\n",
              "    </tr>\n",
              "    <tr>\n",
              "      <th>6035999</th>\n",
              "      <td>6036000</td>\n",
              "      <td>125749</td>\n",
              "      <td>2.638017</td>\n",
              "      <td>1.482739</td>\n",
              "      <td>1</td>\n",
              "      <td>3.869032</td>\n",
              "      <td>0</td>\n",
              "      <td>0</td>\n",
              "      <td>1</td>\n",
              "      <td>1</td>\n",
              "      <td>0</td>\n",
              "      <td>0</td>\n",
              "      <td>392.912174</td>\n",
              "      <td>105.499176</td>\n",
              "    </tr>\n",
              "  </tbody>\n",
              "</table>\n",
              "<p>6036000 rows × 14 columns</p>\n",
              "</div>"
            ],
            "text/plain": [
              "              id  breath_id  time_step  ...  C__50  u_in_cumsum  time_step_cumsum\n",
              "0              1          1   0.000000  ...      1     0.083334          0.000000\n",
              "1              2          1   0.033652  ...      1    18.466375          0.033652\n",
              "2              3          1   0.067514  ...      1    40.975653          0.101167\n",
              "3              4          1   0.101542  ...      1    63.784476          0.202709\n",
              "4              5          1   0.135756  ...      1    89.140326          0.338464\n",
              "...          ...        ...        ...  ...    ...          ...               ...\n",
              "6035995  6035996     125749   2.504603  ...      0   387.109297         95.147046\n",
              "6035996  6035997     125749   2.537961  ...      0   388.597794         97.685006\n",
              "6035997  6035998     125749   2.571408  ...      0   390.156772        100.256414\n",
              "6035998  6035999     125749   2.604744  ...      0   391.429435        102.861158\n",
              "6035999  6036000     125749   2.638017  ...      0   392.912174        105.499176\n",
              "\n",
              "[6036000 rows x 14 columns]"
            ]
          },
          "metadata": {},
          "execution_count": 64
        }
      ]
    },
    {
      "cell_type": "markdown",
      "metadata": {
        "id": "siSpG056ccRb"
      },
      "source": [
        "# https://www.kaggle.com/sauravdeb98/ventilator-pressure"
      ]
    },
    {
      "cell_type": "code",
      "metadata": {
        "id": "ciTf97j--Bz0",
        "outputId": "8ca70297-ea75-49c2-d4e0-a613bf129672",
        "colab": {
          "base_uri": "https://localhost:8080/"
        }
      },
      "source": [
        "train_data = pd.read_csv('train.csv')\n",
        "\n",
        "train_data['breath_id'].value_counts()"
      ],
      "execution_count": 75,
      "outputs": [
        {
          "output_type": "execute_result",
          "data": {
            "text/plain": [
              "4094     80\n",
              "30028    80\n",
              "30031    80\n",
              "38227    80\n",
              "46423    80\n",
              "         ..\n",
              "47775    80\n",
              "84641    80\n",
              "92837    80\n",
              "96935    80\n",
              "16392    80\n",
              "Name: breath_id, Length: 75450, dtype: int64"
            ]
          },
          "metadata": {},
          "execution_count": 75
        }
      ]
    },
    {
      "cell_type": "code",
      "metadata": {
        "id": "jC6TY4v9eLKY",
        "outputId": "256709fe-c2ff-4171-f5f7-d05078088642",
        "colab": {
          "base_uri": "https://localhost:8080/"
        }
      },
      "source": [
        "train_data['R'].value_counts()"
      ],
      "execution_count": 76,
      "outputs": [
        {
          "output_type": "execute_result",
          "data": {
            "text/plain": [
              "50    2410080\n",
              "5     1988800\n",
              "20    1637120\n",
              "Name: R, dtype: int64"
            ]
          },
          "metadata": {},
          "execution_count": 76
        }
      ]
    },
    {
      "cell_type": "code",
      "metadata": {
        "id": "xpc0uxFpeLHX",
        "outputId": "3b6f0583-cfaf-4a74-ff78-860e2b65020c",
        "colab": {
          "base_uri": "https://localhost:8080/"
        }
      },
      "source": [
        "train_data['C'].value_counts()"
      ],
      "execution_count": 77,
      "outputs": [
        {
          "output_type": "execute_result",
          "data": {
            "text/plain": [
              "10    2244720\n",
              "50    1971680\n",
              "20    1819600\n",
              "Name: C, dtype: int64"
            ]
          },
          "metadata": {},
          "execution_count": 77
        }
      ]
    },
    {
      "cell_type": "code",
      "metadata": {
        "id": "cdjbRfz3eLFH",
        "outputId": "daf36e8f-bc47-4d7b-8322-39ca1880b545",
        "colab": {
          "base_uri": "https://localhost:8080/"
        }
      },
      "source": [
        "train_data['u_in'].value_counts()"
      ],
      "execution_count": 78,
      "outputs": [
        {
          "output_type": "execute_result",
          "data": {
            "text/plain": [
              "0.000000      1432253\n",
              "100.000000      21739\n",
              "1.277707           76\n",
              "1.494747           70\n",
              "0.058727           67\n",
              "               ...   \n",
              "2.615011            1\n",
              "4.660273            1\n",
              "9.463995            1\n",
              "4.984399            1\n",
              "0.767021            1\n",
              "Name: u_in, Length: 4020248, dtype: int64"
            ]
          },
          "metadata": {},
          "execution_count": 78
        }
      ]
    },
    {
      "cell_type": "code",
      "metadata": {
        "id": "0M-gSmxHeLBU",
        "outputId": "bd9baac1-4f2f-4340-8ca5-891c9246f580",
        "colab": {
          "base_uri": "https://localhost:8080/"
        }
      },
      "source": [
        "train_data['u_out'].value_counts()"
      ],
      "execution_count": 79,
      "outputs": [
        {
          "output_type": "execute_result",
          "data": {
            "text/plain": [
              "1    3745032\n",
              "0    2290968\n",
              "Name: u_out, dtype: int64"
            ]
          },
          "metadata": {},
          "execution_count": 79
        }
      ]
    },
    {
      "cell_type": "code",
      "metadata": {
        "id": "CAqfRatUgsgN",
        "outputId": "52ab877a-527b-44a6-87cf-c9ce9edee996",
        "colab": {
          "base_uri": "https://localhost:8080/"
        }
      },
      "source": [
        "train_data['pressure'].value_counts()"
      ],
      "execution_count": 80,
      "outputs": [
        {
          "output_type": "execute_result",
          "data": {
            "text/plain": [
              " 6.399909     198642\n",
              " 6.470211     188844\n",
              " 6.329607     180688\n",
              " 6.259305     180582\n",
              " 6.610815     164401\n",
              "               ...  \n",
              " 62.711927         6\n",
              " 62.641625         5\n",
              " 63.274345         4\n",
              " 62.360417         3\n",
              "-1.895744          3\n",
              "Name: pressure, Length: 950, dtype: int64"
            ]
          },
          "metadata": {},
          "execution_count": 80
        }
      ]
    },
    {
      "cell_type": "markdown",
      "metadata": {
        "id": "wZyjPIW1h898"
      },
      "source": [
        "# https://www.kaggle.com/gauravbrills/ventilator-pressure-prediction-autogluon-fiddle"
      ]
    },
    {
      "cell_type": "code",
      "metadata": {
        "id": "7iBK1Bbngsdk",
        "outputId": "2ac3ba38-5ab6-4fb3-b5a8-bfb97dbdcadc",
        "colab": {
          "base_uri": "https://localhost:8080/"
        }
      },
      "source": [
        "train = pd.read_csv('train.csv')\n",
        "\n",
        "columns = [x for x in train]\n",
        "columns"
      ],
      "execution_count": 93,
      "outputs": [
        {
          "output_type": "execute_result",
          "data": {
            "text/plain": [
              "['id', 'breath_id', 'R', 'C', 'time_step', 'u_in', 'u_out', 'pressure']"
            ]
          },
          "metadata": {},
          "execution_count": 93
        }
      ]
    },
    {
      "cell_type": "code",
      "metadata": {
        "id": "pp6g-Dc-jfsT"
      },
      "source": [
        "chosen_columns = ['R', 'C', 'u_in', 'u_out', 'pressure']"
      ],
      "execution_count": 97,
      "outputs": []
    },
    {
      "cell_type": "code",
      "metadata": {
        "id": "s5ePJnjjjZgQ",
        "outputId": "4630f3a1-3675-4c87-cd6c-065accd43a4b",
        "colab": {
          "base_uri": "https://localhost:8080/",
          "height": 298
        }
      },
      "source": [
        "train[train[\"breath_id\"]==1].plot.line(x='time_step', y=chosen_columns)"
      ],
      "execution_count": 98,
      "outputs": [
        {
          "output_type": "execute_result",
          "data": {
            "text/plain": [
              "<matplotlib.axes._subplots.AxesSubplot at 0x7f8458faca50>"
            ]
          },
          "metadata": {},
          "execution_count": 98
        },
        {
          "output_type": "display_data",
          "data": {
            "image/png": "[encoded data removed]",
            "text/plain": [
              "<Figure size 432x288 with 1 Axes>"
            ]
          },
          "metadata": {
            "needs_background": "light"
          }
        }
      ]
    },
    {
      "cell_type": "code",
      "metadata": {
        "id": "gIyxMo8Zg9P8",
        "outputId": "3c3f8f6b-c04e-47e1-fb3f-0e998cbc0573",
        "colab": {
          "base_uri": "https://localhost:8080/",
          "height": 298
        }
      },
      "source": [
        "train[train[\"breath_id\"]==2].plot.line(x='time_step', y=chosen_columns)"
      ],
      "execution_count": 99,
      "outputs": [
        {
          "output_type": "execute_result",
          "data": {
            "text/plain": [
              "<matplotlib.axes._subplots.AxesSubplot at 0x7f845892ef50>"
            ]
          },
          "metadata": {},
          "execution_count": 99
        },
        {
          "output_type": "display_data",
          "data": {
            "image/png": "[encoded data removed]",
            "text/plain": [
              "<Figure size 432x288 with 1 Axes>"
            ]
          },
          "metadata": {
            "needs_background": "light"
          }
        }
      ]
    },
    {
      "cell_type": "code",
      "metadata": {
        "id": "p30pfvVfg9Kc",
        "outputId": "74c81bf4-aa3f-42be-9b83-9d7bd27a3379",
        "colab": {
          "base_uri": "https://localhost:8080/",
          "height": 298
        }
      },
      "source": [
        "train[train[\"breath_id\"]==3].plot.line(x='time_step', y=chosen_columns)"
      ],
      "execution_count": 100,
      "outputs": [
        {
          "output_type": "execute_result",
          "data": {
            "text/plain": [
              "<matplotlib.axes._subplots.AxesSubplot at 0x7f8458858750>"
            ]
          },
          "metadata": {},
          "execution_count": 100
        },
        {
          "output_type": "display_data",
          "data": {
            "image/png": "[encoded data removed]",
            "text/plain": [
              "<Figure size 432x288 with 1 Axes>"
            ]
          },
          "metadata": {
            "needs_background": "light"
          }
        }
      ]
    },
    {
      "cell_type": "code",
      "metadata": {
        "id": "OoT2CXCkg9HY",
        "outputId": "34c373c6-aa8b-4258-d92c-7ffe4ca677ee",
        "colab": {
          "base_uri": "https://localhost:8080/"
        }
      },
      "source": [
        "# 그룹바이에서 shift를 하면 그 묶인 그룹에서 이동하는 것이다!\n",
        "\n",
        "shift1_train = train.groupby('breath_id')['u_in'].shift(1)\n",
        "shift1_train"
      ],
      "execution_count": 104,
      "outputs": [
        {
          "output_type": "execute_result",
          "data": {
            "text/plain": [
              "0                NaN\n",
              "1           0.083334\n",
              "2          18.383041\n",
              "3          22.509278\n",
              "4          22.808822\n",
              "             ...    \n",
              "6035995     1.420711\n",
              "6035996     1.489714\n",
              "6035997     1.488497\n",
              "6035998     1.558978\n",
              "6035999     1.272663\n",
              "Name: u_in, Length: 6036000, dtype: float64"
            ]
          },
          "metadata": {},
          "execution_count": 104
        }
      ]
    },
    {
      "cell_type": "code",
      "metadata": {
        "id": "PrrLz6ZTlIVs",
        "outputId": "a729ea1b-209b-4247-92de-f0f7a8db0aa5",
        "colab": {
          "base_uri": "https://localhost:8080/"
        }
      },
      "source": [
        "shift1_train[shift1_train.isnull()]"
      ],
      "execution_count": 117,
      "outputs": [
        {
          "output_type": "execute_result",
          "data": {
            "text/plain": [
              "0         NaN\n",
              "80        NaN\n",
              "160       NaN\n",
              "240       NaN\n",
              "320       NaN\n",
              "           ..\n",
              "6035600   NaN\n",
              "6035680   NaN\n",
              "6035760   NaN\n",
              "6035840   NaN\n",
              "6035920   NaN\n",
              "Name: u_in, Length: 75450, dtype: float64"
            ]
          },
          "metadata": {},
          "execution_count": 117
        }
      ]
    },
    {
      "cell_type": "code",
      "metadata": {
        "id": "Zcz8xkjvg9DK",
        "outputId": "40cf63fa-a36c-4502-d99a-765edc54243d",
        "colab": {
          "base_uri": "https://localhost:8080/"
        }
      },
      "source": [
        "train.groupby('breath_id')['u_in'].shift(-1)"
      ],
      "execution_count": 102,
      "outputs": [
        {
          "output_type": "execute_result",
          "data": {
            "text/plain": [
              "0          18.383041\n",
              "1          22.509278\n",
              "2          22.808822\n",
              "3          25.355850\n",
              "4          27.259866\n",
              "             ...    \n",
              "6035995     1.488497\n",
              "6035996     1.558978\n",
              "6035997     1.272663\n",
              "6035998     1.482739\n",
              "6035999          NaN\n",
              "Name: u_in, Length: 6036000, dtype: float64"
            ]
          },
          "metadata": {},
          "execution_count": 102
        }
      ]
    },
    {
      "cell_type": "code",
      "metadata": {
        "id": "7Qop5zEIgsV5",
        "outputId": "5518d34a-1cdc-4ca3-d7e9-dfeb045117f5",
        "colab": {
          "base_uri": "https://localhost:8080/"
        }
      },
      "source": [
        "train.groupby(['breath_id'])['u_in'].transform('max')"
      ],
      "execution_count": 103,
      "outputs": [
        {
          "output_type": "execute_result",
          "data": {
            "text/plain": [
              "0          28.313036\n",
              "1          28.313036\n",
              "2          28.313036\n",
              "3          28.313036\n",
              "4          28.313036\n",
              "             ...    \n",
              "6035995    25.504196\n",
              "6035996    25.504196\n",
              "6035997    25.504196\n",
              "6035998    25.504196\n",
              "6035999    25.504196\n",
              "Name: u_in, Length: 6036000, dtype: float64"
            ]
          },
          "metadata": {},
          "execution_count": 103
        }
      ]
    },
    {
      "cell_type": "markdown",
      "metadata": {
        "id": "uA2QAfNRmaFH"
      },
      "source": [
        "# https://www.kaggle.com/kokinishimaki/ventilator-pressure-eda-and-simple-submission"
      ]
    },
    {
      "cell_type": "code",
      "metadata": {
        "id": "dZXtnt0kk7j9"
      },
      "source": [
        "train = pd.read_csv('train.csv')"
      ],
      "execution_count": 118,
      "outputs": []
    },
    {
      "cell_type": "code",
      "metadata": {
        "id": "BUDo6EpWk7f5",
        "outputId": "b139d533-e2e4-4366-e05d-20f580f14781",
        "colab": {
          "base_uri": "https://localhost:8080/"
        }
      },
      "source": [
        "train['breath_id']"
      ],
      "execution_count": 119,
      "outputs": [
        {
          "output_type": "execute_result",
          "data": {
            "text/plain": [
              "0               1\n",
              "1               1\n",
              "2               1\n",
              "3               1\n",
              "4               1\n",
              "            ...  \n",
              "6035995    125749\n",
              "6035996    125749\n",
              "6035997    125749\n",
              "6035998    125749\n",
              "6035999    125749\n",
              "Name: breath_id, Length: 6036000, dtype: int64"
            ]
          },
          "metadata": {},
          "execution_count": 119
        }
      ]
    },
    {
      "cell_type": "code",
      "metadata": {
        "id": "C3PoarQlk7df",
        "outputId": "a85d98f1-7fb7-40b8-8d46-5ba71fd00052",
        "colab": {
          "base_uri": "https://localhost:8080/",
          "height": 300
        }
      },
      "source": [
        "train.nunique().to_frame()\n",
        "# breath_id의 125749-75450=50299는 테스트다."
      ],
      "execution_count": 120,
      "outputs": [
        {
          "output_type": "execute_result",
          "data": {
            "text/html": [
              "<div>\n",
              "<style scoped>\n",
              "    .dataframe tbody tr th:only-of-type {\n",
              "        vertical-align: middle;\n",
              "    }\n",
              "\n",
              "    .dataframe tbody tr th {\n",
              "        vertical-align: top;\n",
              "    }\n",
              "\n",
              "    .dataframe thead th {\n",
              "        text-align: right;\n",
              "    }\n",
              "</style>\n",
              "<table border=\"1\" class=\"dataframe\">\n",
              "  <thead>\n",
              "    <tr style=\"text-align: right;\">\n",
              "      <th></th>\n",
              "      <th>0</th>\n",
              "    </tr>\n",
              "  </thead>\n",
              "  <tbody>\n",
              "    <tr>\n",
              "      <th>id</th>\n",
              "      <td>6036000</td>\n",
              "    </tr>\n",
              "    <tr>\n",
              "      <th>breath_id</th>\n",
              "      <td>75450</td>\n",
              "    </tr>\n",
              "    <tr>\n",
              "      <th>R</th>\n",
              "      <td>3</td>\n",
              "    </tr>\n",
              "    <tr>\n",
              "      <th>C</th>\n",
              "      <td>3</td>\n",
              "    </tr>\n",
              "    <tr>\n",
              "      <th>time_step</th>\n",
              "      <td>3767571</td>\n",
              "    </tr>\n",
              "    <tr>\n",
              "      <th>u_in</th>\n",
              "      <td>4020248</td>\n",
              "    </tr>\n",
              "    <tr>\n",
              "      <th>u_out</th>\n",
              "      <td>2</td>\n",
              "    </tr>\n",
              "    <tr>\n",
              "      <th>pressure</th>\n",
              "      <td>950</td>\n",
              "    </tr>\n",
              "  </tbody>\n",
              "</table>\n",
              "</div>"
            ],
            "text/plain": [
              "                 0\n",
              "id         6036000\n",
              "breath_id    75450\n",
              "R                3\n",
              "C                3\n",
              "time_step  3767571\n",
              "u_in       4020248\n",
              "u_out            2\n",
              "pressure       950"
            ]
          },
          "metadata": {},
          "execution_count": 120
        }
      ]
    },
    {
      "cell_type": "code",
      "metadata": {
        "id": "j_-pYL0Ek7ak",
        "outputId": "4de1f85d-443a-4075-fd29-f2514e940e70",
        "colab": {
          "base_uri": "https://localhost:8080/",
          "height": 269
        }
      },
      "source": [
        "test = pd.read_csv('test.csv')\n",
        "test.nunique().to_frame()"
      ],
      "execution_count": 122,
      "outputs": [
        {
          "output_type": "execute_result",
          "data": {
            "text/html": [
              "<div>\n",
              "<style scoped>\n",
              "    .dataframe tbody tr th:only-of-type {\n",
              "        vertical-align: middle;\n",
              "    }\n",
              "\n",
              "    .dataframe tbody tr th {\n",
              "        vertical-align: top;\n",
              "    }\n",
              "\n",
              "    .dataframe thead th {\n",
              "        text-align: right;\n",
              "    }\n",
              "</style>\n",
              "<table border=\"1\" class=\"dataframe\">\n",
              "  <thead>\n",
              "    <tr style=\"text-align: right;\">\n",
              "      <th></th>\n",
              "      <th>0</th>\n",
              "    </tr>\n",
              "  </thead>\n",
              "  <tbody>\n",
              "    <tr>\n",
              "      <th>id</th>\n",
              "      <td>4024000</td>\n",
              "    </tr>\n",
              "    <tr>\n",
              "      <th>breath_id</th>\n",
              "      <td>50300</td>\n",
              "    </tr>\n",
              "    <tr>\n",
              "      <th>R</th>\n",
              "      <td>3</td>\n",
              "    </tr>\n",
              "    <tr>\n",
              "      <th>C</th>\n",
              "      <td>3</td>\n",
              "    </tr>\n",
              "    <tr>\n",
              "      <th>time_step</th>\n",
              "      <td>2855528</td>\n",
              "    </tr>\n",
              "    <tr>\n",
              "      <th>u_in</th>\n",
              "      <td>2787790</td>\n",
              "    </tr>\n",
              "    <tr>\n",
              "      <th>u_out</th>\n",
              "      <td>2</td>\n",
              "    </tr>\n",
              "  </tbody>\n",
              "</table>\n",
              "</div>"
            ],
            "text/plain": [
              "                 0\n",
              "id         4024000\n",
              "breath_id    50300\n",
              "R                3\n",
              "C                3\n",
              "time_step  2855528\n",
              "u_in       2787790\n",
              "u_out            2"
            ]
          },
          "metadata": {},
          "execution_count": 122
        }
      ]
    },
    {
      "cell_type": "code",
      "metadata": {
        "id": "9Yy0QYSCngGC",
        "outputId": "77822a02-f582-4ff5-92cb-54734ca6a8bf",
        "colab": {
          "base_uri": "https://localhost:8080/"
        }
      },
      "source": [
        "train.groupby(\"breath_id\")[\"time_step\"].count().unique().item()\n",
        "# 모든 호흡마다 타임스텝은 80개이다. 테스트도 마찬가지다."
      ],
      "execution_count": 124,
      "outputs": [
        {
          "output_type": "execute_result",
          "data": {
            "text/plain": [
              "80"
            ]
          },
          "metadata": {},
          "execution_count": 124
        }
      ]
    },
    {
      "cell_type": "code",
      "metadata": {
        "id": "4qo71nyAngDn",
        "outputId": "d736e915-9d90-4654-e67d-77f45018a73d",
        "colab": {
          "base_uri": "https://localhost:8080/",
          "height": 300
        }
      },
      "source": [
        "train.isnull().sum(axis = 0).to_frame()\n",
        "# 미싱데이터는 없다!"
      ],
      "execution_count": 126,
      "outputs": [
        {
          "output_type": "execute_result",
          "data": {
            "text/html": [
              "<div>\n",
              "<style scoped>\n",
              "    .dataframe tbody tr th:only-of-type {\n",
              "        vertical-align: middle;\n",
              "    }\n",
              "\n",
              "    .dataframe tbody tr th {\n",
              "        vertical-align: top;\n",
              "    }\n",
              "\n",
              "    .dataframe thead th {\n",
              "        text-align: right;\n",
              "    }\n",
              "</style>\n",
              "<table border=\"1\" class=\"dataframe\">\n",
              "  <thead>\n",
              "    <tr style=\"text-align: right;\">\n",
              "      <th></th>\n",
              "      <th>0</th>\n",
              "    </tr>\n",
              "  </thead>\n",
              "  <tbody>\n",
              "    <tr>\n",
              "      <th>id</th>\n",
              "      <td>0</td>\n",
              "    </tr>\n",
              "    <tr>\n",
              "      <th>breath_id</th>\n",
              "      <td>0</td>\n",
              "    </tr>\n",
              "    <tr>\n",
              "      <th>R</th>\n",
              "      <td>0</td>\n",
              "    </tr>\n",
              "    <tr>\n",
              "      <th>C</th>\n",
              "      <td>0</td>\n",
              "    </tr>\n",
              "    <tr>\n",
              "      <th>time_step</th>\n",
              "      <td>0</td>\n",
              "    </tr>\n",
              "    <tr>\n",
              "      <th>u_in</th>\n",
              "      <td>0</td>\n",
              "    </tr>\n",
              "    <tr>\n",
              "      <th>u_out</th>\n",
              "      <td>0</td>\n",
              "    </tr>\n",
              "    <tr>\n",
              "      <th>pressure</th>\n",
              "      <td>0</td>\n",
              "    </tr>\n",
              "  </tbody>\n",
              "</table>\n",
              "</div>"
            ],
            "text/plain": [
              "           0\n",
              "id         0\n",
              "breath_id  0\n",
              "R          0\n",
              "C          0\n",
              "time_step  0\n",
              "u_in       0\n",
              "u_out      0\n",
              "pressure   0"
            ]
          },
          "metadata": {},
          "execution_count": 126
        }
      ]
    },
    {
      "cell_type": "code",
      "metadata": {
        "id": "HsmxOLHIngA4",
        "outputId": "0cb180d7-0b75-48dd-d9c4-1aae4d0cc85f",
        "colab": {
          "base_uri": "https://localhost:8080/"
        }
      },
      "source": [
        "train.time_step.max()\n",
        "# 가장 긴 숨. 3초가 안됨."
      ],
      "execution_count": 127,
      "outputs": [
        {
          "output_type": "execute_result",
          "data": {
            "text/plain": [
              "2.9372379779815674"
            ]
          },
          "metadata": {},
          "execution_count": 127
        }
      ]
    },
    {
      "cell_type": "code",
      "metadata": {
        "id": "I3Adias_oSr2",
        "outputId": "b673ed00-706c-46bb-b58e-41be3cbb3320",
        "colab": {
          "base_uri": "https://localhost:8080/"
        }
      },
      "source": [
        "# 이 둘은 같은 것이다. 차이를 익혀라!\n",
        "train['time_step'].groupby(train['breath_id']).max()"
      ],
      "execution_count": 130,
      "outputs": [
        {
          "output_type": "execute_result",
          "data": {
            "text/plain": [
              "breath_id\n",
              "1         2.689766\n",
              "2         2.690624\n",
              "3         2.525398\n",
              "4         2.528579\n",
              "5         2.724876\n",
              "            ...   \n",
              "125740    2.721422\n",
              "125742    2.665376\n",
              "125743    2.666352\n",
              "125745    2.508653\n",
              "125749    2.638017\n",
              "Name: time_step, Length: 75450, dtype: float64"
            ]
          },
          "metadata": {},
          "execution_count": 130
        }
      ]
    },
    {
      "cell_type": "code",
      "metadata": {
        "id": "tFJFOaZVoSpZ",
        "outputId": "fb66854f-19c5-46c8-c1a9-dedd52347f78",
        "colab": {
          "base_uri": "https://localhost:8080/"
        }
      },
      "source": [
        "train.groupby('breath_id')['time_step'].max()"
      ],
      "execution_count": 131,
      "outputs": [
        {
          "output_type": "execute_result",
          "data": {
            "text/plain": [
              "breath_id\n",
              "1         2.689766\n",
              "2         2.690624\n",
              "3         2.525398\n",
              "4         2.528579\n",
              "5         2.724876\n",
              "            ...   \n",
              "125740    2.721422\n",
              "125742    2.665376\n",
              "125743    2.666352\n",
              "125745    2.508653\n",
              "125749    2.638017\n",
              "Name: time_step, Length: 75450, dtype: float64"
            ]
          },
          "metadata": {},
          "execution_count": 131
        }
      ]
    },
    {
      "cell_type": "markdown",
      "metadata": {
        "id": "uZT1jNzkTrRr"
      },
      "source": [
        "# https://www.kaggle.com/squarex/ventilator-pressure-prediction-lgb-eda"
      ]
    },
    {
      "cell_type": "code",
      "metadata": {
        "id": "rHBqOllLoSm3"
      },
      "source": [
        "X = pd.read_csv('train.csv')\n",
        "X_test = pd.read_csv('test.csv')"
      ],
      "execution_count": 9,
      "outputs": []
    },
    {
      "cell_type": "code",
      "metadata": {
        "id": "MdO1m5AVT6In",
        "outputId": "f57befd7-b083-4928-c23e-51d972c47a65",
        "colab": {
          "base_uri": "https://localhost:8080/"
        }
      },
      "source": [
        "# 컬럼 보는 방법\n",
        "X.columns, X_test.columns"
      ],
      "execution_count": 10,
      "outputs": [
        {
          "output_type": "execute_result",
          "data": {
            "text/plain": [
              "(Index(['id', 'breath_id', 'R', 'C', 'time_step', 'u_in', 'u_out', 'pressure'], dtype='object'),\n",
              " Index(['id', 'breath_id', 'R', 'C', 'time_step', 'u_in', 'u_out'], dtype='object'))"
            ]
          },
          "metadata": {},
          "execution_count": 10
        }
      ]
    },
    {
      "cell_type": "code",
      "metadata": {
        "id": "3jgd9l48UBsA",
        "outputId": "51a0652d-962f-4a51-f9b8-3fe9432e851b",
        "colab": {
          "base_uri": "https://localhost:8080/"
        }
      },
      "source": [
        "# difference 함수!\n",
        "X.columns.difference(X_test.columns)"
      ],
      "execution_count": 11,
      "outputs": [
        {
          "output_type": "execute_result",
          "data": {
            "text/plain": [
              "Index(['pressure'], dtype='object')"
            ]
          },
          "metadata": {},
          "execution_count": 11
        }
      ]
    },
    {
      "cell_type": "code",
      "metadata": {
        "id": "YQUSa0mcoSkQ",
        "outputId": "092afb13-3376-4f08-e49d-4ccd6039a657",
        "colab": {
          "base_uri": "https://localhost:8080/"
        }
      },
      "source": [
        "print(X.columns.difference(X_test.columns))\n",
        "y = X.pop('pressure')\n",
        "# 팝은 밖으로 빼서 원래 자리에 없다."
      ],
      "execution_count": 12,
      "outputs": [
        {
          "output_type": "stream",
          "name": "stdout",
          "text": [
            "Index(['pressure'], dtype='object')\n"
          ]
        }
      ]
    },
    {
      "cell_type": "code",
      "metadata": {
        "id": "X6hhSnyGVOUr",
        "outputId": "63b4f157-ca43-433e-e157-25b30360503b",
        "colab": {
          "base_uri": "https://localhost:8080/"
        }
      },
      "source": [
        "X.groupby('breath_id')['R'].nunique()"
      ],
      "execution_count": 21,
      "outputs": [
        {
          "output_type": "execute_result",
          "data": {
            "text/plain": [
              "breath_id\n",
              "1         1\n",
              "2         1\n",
              "3         1\n",
              "4         1\n",
              "5         1\n",
              "         ..\n",
              "125740    1\n",
              "125742    1\n",
              "125743    1\n",
              "125745    1\n",
              "125749    1\n",
              "Name: R, Length: 75450, dtype: int64"
            ]
          },
          "metadata": {},
          "execution_count": 21
        }
      ]
    },
    {
      "cell_type": "code",
      "metadata": {
        "id": "Ms0MkRiRTeyO",
        "outputId": "49ca2c49-a50e-49b0-fcac-dafa10dafa26",
        "colab": {
          "base_uri": "https://localhost:8080/",
          "height": 54
        }
      },
      "source": [
        "'''\n",
        "https://mizykk.tistory.com/103\n",
        "데이터에 고유값이 무엇이 있는지 알고 싶다면 unique \n",
        "\n",
        "총 고유값의 수가 몇 개인지 알고 싶다면 nunique\n",
        "\n",
        "값별로 데이터의 개수를 알고 싶다면 value_counts\n",
        "'''"
      ],
      "execution_count": 15,
      "outputs": [
        {
          "output_type": "execute_result",
          "data": {
            "application/vnd.google.colaboratory.intrinsic+json": {
              "type": "string"
            },
            "text/plain": [
              "'\\nhttps://mizykk.tistory.com/103\\n데이터에 고유값이 무엇이 있는지 알고 싶다면 unique \\n\\n총 고유값의 수가 몇 개인지 알고 싶다면 nunique\\n\\n값별로 데이터의 개수를 알고 싶다면 value_counts\\n'"
            ]
          },
          "metadata": {},
          "execution_count": 15
        }
      ]
    },
    {
      "cell_type": "code",
      "metadata": {
        "id": "h95PSiYZaYNZ",
        "outputId": "f0ad440b-cdcf-4be6-9130-d02225645ef3",
        "colab": {
          "base_uri": "https://localhost:8080/",
          "height": 424
        }
      },
      "source": [
        "X"
      ],
      "execution_count": 24,
      "outputs": [
        {
          "output_type": "execute_result",
          "data": {
            "text/html": [
              "<div>\n",
              "<style scoped>\n",
              "    .dataframe tbody tr th:only-of-type {\n",
              "        vertical-align: middle;\n",
              "    }\n",
              "\n",
              "    .dataframe tbody tr th {\n",
              "        vertical-align: top;\n",
              "    }\n",
              "\n",
              "    .dataframe thead th {\n",
              "        text-align: right;\n",
              "    }\n",
              "</style>\n",
              "<table border=\"1\" class=\"dataframe\">\n",
              "  <thead>\n",
              "    <tr style=\"text-align: right;\">\n",
              "      <th></th>\n",
              "      <th>id</th>\n",
              "      <th>breath_id</th>\n",
              "      <th>R</th>\n",
              "      <th>C</th>\n",
              "      <th>time_step</th>\n",
              "      <th>u_in</th>\n",
              "      <th>u_out</th>\n",
              "    </tr>\n",
              "  </thead>\n",
              "  <tbody>\n",
              "    <tr>\n",
              "      <th>0</th>\n",
              "      <td>1</td>\n",
              "      <td>1</td>\n",
              "      <td>20</td>\n",
              "      <td>50</td>\n",
              "      <td>0.000000</td>\n",
              "      <td>0.083334</td>\n",
              "      <td>0</td>\n",
              "    </tr>\n",
              "    <tr>\n",
              "      <th>1</th>\n",
              "      <td>2</td>\n",
              "      <td>1</td>\n",
              "      <td>20</td>\n",
              "      <td>50</td>\n",
              "      <td>0.033652</td>\n",
              "      <td>18.383041</td>\n",
              "      <td>0</td>\n",
              "    </tr>\n",
              "    <tr>\n",
              "      <th>2</th>\n",
              "      <td>3</td>\n",
              "      <td>1</td>\n",
              "      <td>20</td>\n",
              "      <td>50</td>\n",
              "      <td>0.067514</td>\n",
              "      <td>22.509278</td>\n",
              "      <td>0</td>\n",
              "    </tr>\n",
              "    <tr>\n",
              "      <th>3</th>\n",
              "      <td>4</td>\n",
              "      <td>1</td>\n",
              "      <td>20</td>\n",
              "      <td>50</td>\n",
              "      <td>0.101542</td>\n",
              "      <td>22.808822</td>\n",
              "      <td>0</td>\n",
              "    </tr>\n",
              "    <tr>\n",
              "      <th>4</th>\n",
              "      <td>5</td>\n",
              "      <td>1</td>\n",
              "      <td>20</td>\n",
              "      <td>50</td>\n",
              "      <td>0.135756</td>\n",
              "      <td>25.355850</td>\n",
              "      <td>0</td>\n",
              "    </tr>\n",
              "    <tr>\n",
              "      <th>...</th>\n",
              "      <td>...</td>\n",
              "      <td>...</td>\n",
              "      <td>...</td>\n",
              "      <td>...</td>\n",
              "      <td>...</td>\n",
              "      <td>...</td>\n",
              "      <td>...</td>\n",
              "    </tr>\n",
              "    <tr>\n",
              "      <th>6035995</th>\n",
              "      <td>6035996</td>\n",
              "      <td>125749</td>\n",
              "      <td>50</td>\n",
              "      <td>10</td>\n",
              "      <td>2.504603</td>\n",
              "      <td>1.489714</td>\n",
              "      <td>1</td>\n",
              "    </tr>\n",
              "    <tr>\n",
              "      <th>6035996</th>\n",
              "      <td>6035997</td>\n",
              "      <td>125749</td>\n",
              "      <td>50</td>\n",
              "      <td>10</td>\n",
              "      <td>2.537961</td>\n",
              "      <td>1.488497</td>\n",
              "      <td>1</td>\n",
              "    </tr>\n",
              "    <tr>\n",
              "      <th>6035997</th>\n",
              "      <td>6035998</td>\n",
              "      <td>125749</td>\n",
              "      <td>50</td>\n",
              "      <td>10</td>\n",
              "      <td>2.571408</td>\n",
              "      <td>1.558978</td>\n",
              "      <td>1</td>\n",
              "    </tr>\n",
              "    <tr>\n",
              "      <th>6035998</th>\n",
              "      <td>6035999</td>\n",
              "      <td>125749</td>\n",
              "      <td>50</td>\n",
              "      <td>10</td>\n",
              "      <td>2.604744</td>\n",
              "      <td>1.272663</td>\n",
              "      <td>1</td>\n",
              "    </tr>\n",
              "    <tr>\n",
              "      <th>6035999</th>\n",
              "      <td>6036000</td>\n",
              "      <td>125749</td>\n",
              "      <td>50</td>\n",
              "      <td>10</td>\n",
              "      <td>2.638017</td>\n",
              "      <td>1.482739</td>\n",
              "      <td>1</td>\n",
              "    </tr>\n",
              "  </tbody>\n",
              "</table>\n",
              "<p>6036000 rows × 7 columns</p>\n",
              "</div>"
            ],
            "text/plain": [
              "              id  breath_id   R   C  time_step       u_in  u_out\n",
              "0              1          1  20  50   0.000000   0.083334      0\n",
              "1              2          1  20  50   0.033652  18.383041      0\n",
              "2              3          1  20  50   0.067514  22.509278      0\n",
              "3              4          1  20  50   0.101542  22.808822      0\n",
              "4              5          1  20  50   0.135756  25.355850      0\n",
              "...          ...        ...  ..  ..        ...        ...    ...\n",
              "6035995  6035996     125749  50  10   2.504603   1.489714      1\n",
              "6035996  6035997     125749  50  10   2.537961   1.488497      1\n",
              "6035997  6035998     125749  50  10   2.571408   1.558978      1\n",
              "6035998  6035999     125749  50  10   2.604744   1.272663      1\n",
              "6035999  6036000     125749  50  10   2.638017   1.482739      1\n",
              "\n",
              "[6036000 rows x 7 columns]"
            ]
          },
          "metadata": {},
          "execution_count": 24
        }
      ]
    },
    {
      "cell_type": "code",
      "metadata": {
        "id": "MOKvJuL3aZ05",
        "outputId": "842cd1ec-c7c5-4be7-e7d3-ecf3d5bd0e30",
        "colab": {
          "base_uri": "https://localhost:8080/"
        }
      },
      "source": [
        "y"
      ],
      "execution_count": 25,
      "outputs": [
        {
          "output_type": "execute_result",
          "data": {
            "text/plain": [
              "0           5.837492\n",
              "1           5.907794\n",
              "2           7.876254\n",
              "3          11.742872\n",
              "4          12.234987\n",
              "             ...    \n",
              "6035995     3.869032\n",
              "6035996     3.869032\n",
              "6035997     3.798729\n",
              "6035998     4.079938\n",
              "6035999     3.869032\n",
              "Name: pressure, Length: 6036000, dtype: float64"
            ]
          },
          "metadata": {},
          "execution_count": 25
        }
      ]
    },
    {
      "cell_type": "code",
      "metadata": {
        "id": "r_PIX_Eqbxo0",
        "outputId": "466683e0-47b8-4fd6-ac55-f60c362bdc80",
        "colab": {
          "base_uri": "https://localhost:8080/",
          "height": 424
        }
      },
      "source": [
        "# 이거랑 아래꺼랑 똑같다!\n",
        "X[X['breath_id']==1]"
      ],
      "execution_count": 29,
      "outputs": [
        {
          "output_type": "execute_result",
          "data": {
            "text/html": [
              "<div>\n",
              "<style scoped>\n",
              "    .dataframe tbody tr th:only-of-type {\n",
              "        vertical-align: middle;\n",
              "    }\n",
              "\n",
              "    .dataframe tbody tr th {\n",
              "        vertical-align: top;\n",
              "    }\n",
              "\n",
              "    .dataframe thead th {\n",
              "        text-align: right;\n",
              "    }\n",
              "</style>\n",
              "<table border=\"1\" class=\"dataframe\">\n",
              "  <thead>\n",
              "    <tr style=\"text-align: right;\">\n",
              "      <th></th>\n",
              "      <th>id</th>\n",
              "      <th>breath_id</th>\n",
              "      <th>R</th>\n",
              "      <th>C</th>\n",
              "      <th>time_step</th>\n",
              "      <th>u_in</th>\n",
              "      <th>u_out</th>\n",
              "    </tr>\n",
              "  </thead>\n",
              "  <tbody>\n",
              "    <tr>\n",
              "      <th>0</th>\n",
              "      <td>1</td>\n",
              "      <td>1</td>\n",
              "      <td>20</td>\n",
              "      <td>50</td>\n",
              "      <td>0.000000</td>\n",
              "      <td>0.083334</td>\n",
              "      <td>0</td>\n",
              "    </tr>\n",
              "    <tr>\n",
              "      <th>1</th>\n",
              "      <td>2</td>\n",
              "      <td>1</td>\n",
              "      <td>20</td>\n",
              "      <td>50</td>\n",
              "      <td>0.033652</td>\n",
              "      <td>18.383041</td>\n",
              "      <td>0</td>\n",
              "    </tr>\n",
              "    <tr>\n",
              "      <th>2</th>\n",
              "      <td>3</td>\n",
              "      <td>1</td>\n",
              "      <td>20</td>\n",
              "      <td>50</td>\n",
              "      <td>0.067514</td>\n",
              "      <td>22.509278</td>\n",
              "      <td>0</td>\n",
              "    </tr>\n",
              "    <tr>\n",
              "      <th>3</th>\n",
              "      <td>4</td>\n",
              "      <td>1</td>\n",
              "      <td>20</td>\n",
              "      <td>50</td>\n",
              "      <td>0.101542</td>\n",
              "      <td>22.808822</td>\n",
              "      <td>0</td>\n",
              "    </tr>\n",
              "    <tr>\n",
              "      <th>4</th>\n",
              "      <td>5</td>\n",
              "      <td>1</td>\n",
              "      <td>20</td>\n",
              "      <td>50</td>\n",
              "      <td>0.135756</td>\n",
              "      <td>25.355850</td>\n",
              "      <td>0</td>\n",
              "    </tr>\n",
              "    <tr>\n",
              "      <th>...</th>\n",
              "      <td>...</td>\n",
              "      <td>...</td>\n",
              "      <td>...</td>\n",
              "      <td>...</td>\n",
              "      <td>...</td>\n",
              "      <td>...</td>\n",
              "      <td>...</td>\n",
              "    </tr>\n",
              "    <tr>\n",
              "      <th>75</th>\n",
              "      <td>76</td>\n",
              "      <td>1</td>\n",
              "      <td>20</td>\n",
              "      <td>50</td>\n",
              "      <td>2.553593</td>\n",
              "      <td>4.974474</td>\n",
              "      <td>1</td>\n",
              "    </tr>\n",
              "    <tr>\n",
              "      <th>76</th>\n",
              "      <td>77</td>\n",
              "      <td>1</td>\n",
              "      <td>20</td>\n",
              "      <td>50</td>\n",
              "      <td>2.587754</td>\n",
              "      <td>4.978481</td>\n",
              "      <td>1</td>\n",
              "    </tr>\n",
              "    <tr>\n",
              "      <th>77</th>\n",
              "      <td>78</td>\n",
              "      <td>1</td>\n",
              "      <td>20</td>\n",
              "      <td>50</td>\n",
              "      <td>2.621773</td>\n",
              "      <td>4.981847</td>\n",
              "      <td>1</td>\n",
              "    </tr>\n",
              "    <tr>\n",
              "      <th>78</th>\n",
              "      <td>79</td>\n",
              "      <td>1</td>\n",
              "      <td>20</td>\n",
              "      <td>50</td>\n",
              "      <td>2.655746</td>\n",
              "      <td>4.984683</td>\n",
              "      <td>1</td>\n",
              "    </tr>\n",
              "    <tr>\n",
              "      <th>79</th>\n",
              "      <td>80</td>\n",
              "      <td>1</td>\n",
              "      <td>20</td>\n",
              "      <td>50</td>\n",
              "      <td>2.689766</td>\n",
              "      <td>4.987079</td>\n",
              "      <td>1</td>\n",
              "    </tr>\n",
              "  </tbody>\n",
              "</table>\n",
              "<p>80 rows × 7 columns</p>\n",
              "</div>"
            ],
            "text/plain": [
              "    id  breath_id   R   C  time_step       u_in  u_out\n",
              "0    1          1  20  50   0.000000   0.083334      0\n",
              "1    2          1  20  50   0.033652  18.383041      0\n",
              "2    3          1  20  50   0.067514  22.509278      0\n",
              "3    4          1  20  50   0.101542  22.808822      0\n",
              "4    5          1  20  50   0.135756  25.355850      0\n",
              "..  ..        ...  ..  ..        ...        ...    ...\n",
              "75  76          1  20  50   2.553593   4.974474      1\n",
              "76  77          1  20  50   2.587754   4.978481      1\n",
              "77  78          1  20  50   2.621773   4.981847      1\n",
              "78  79          1  20  50   2.655746   4.984683      1\n",
              "79  80          1  20  50   2.689766   4.987079      1\n",
              "\n",
              "[80 rows x 7 columns]"
            ]
          },
          "metadata": {},
          "execution_count": 29
        }
      ]
    },
    {
      "cell_type": "code",
      "metadata": {
        "id": "z-ZLdVCEa5nK",
        "outputId": "d7a41dfb-d543-454d-c2e4-3b2bce328e9c",
        "colab": {
          "base_uri": "https://localhost:8080/",
          "height": 424
        }
      },
      "source": [
        "X.loc[X['breath_id'] == 1, :]"
      ],
      "execution_count": 27,
      "outputs": [
        {
          "output_type": "execute_result",
          "data": {
            "text/html": [
              "<div>\n",
              "<style scoped>\n",
              "    .dataframe tbody tr th:only-of-type {\n",
              "        vertical-align: middle;\n",
              "    }\n",
              "\n",
              "    .dataframe tbody tr th {\n",
              "        vertical-align: top;\n",
              "    }\n",
              "\n",
              "    .dataframe thead th {\n",
              "        text-align: right;\n",
              "    }\n",
              "</style>\n",
              "<table border=\"1\" class=\"dataframe\">\n",
              "  <thead>\n",
              "    <tr style=\"text-align: right;\">\n",
              "      <th></th>\n",
              "      <th>id</th>\n",
              "      <th>breath_id</th>\n",
              "      <th>R</th>\n",
              "      <th>C</th>\n",
              "      <th>time_step</th>\n",
              "      <th>u_in</th>\n",
              "      <th>u_out</th>\n",
              "    </tr>\n",
              "  </thead>\n",
              "  <tbody>\n",
              "    <tr>\n",
              "      <th>0</th>\n",
              "      <td>1</td>\n",
              "      <td>1</td>\n",
              "      <td>20</td>\n",
              "      <td>50</td>\n",
              "      <td>0.000000</td>\n",
              "      <td>0.083334</td>\n",
              "      <td>0</td>\n",
              "    </tr>\n",
              "    <tr>\n",
              "      <th>1</th>\n",
              "      <td>2</td>\n",
              "      <td>1</td>\n",
              "      <td>20</td>\n",
              "      <td>50</td>\n",
              "      <td>0.033652</td>\n",
              "      <td>18.383041</td>\n",
              "      <td>0</td>\n",
              "    </tr>\n",
              "    <tr>\n",
              "      <th>2</th>\n",
              "      <td>3</td>\n",
              "      <td>1</td>\n",
              "      <td>20</td>\n",
              "      <td>50</td>\n",
              "      <td>0.067514</td>\n",
              "      <td>22.509278</td>\n",
              "      <td>0</td>\n",
              "    </tr>\n",
              "    <tr>\n",
              "      <th>3</th>\n",
              "      <td>4</td>\n",
              "      <td>1</td>\n",
              "      <td>20</td>\n",
              "      <td>50</td>\n",
              "      <td>0.101542</td>\n",
              "      <td>22.808822</td>\n",
              "      <td>0</td>\n",
              "    </tr>\n",
              "    <tr>\n",
              "      <th>4</th>\n",
              "      <td>5</td>\n",
              "      <td>1</td>\n",
              "      <td>20</td>\n",
              "      <td>50</td>\n",
              "      <td>0.135756</td>\n",
              "      <td>25.355850</td>\n",
              "      <td>0</td>\n",
              "    </tr>\n",
              "    <tr>\n",
              "      <th>...</th>\n",
              "      <td>...</td>\n",
              "      <td>...</td>\n",
              "      <td>...</td>\n",
              "      <td>...</td>\n",
              "      <td>...</td>\n",
              "      <td>...</td>\n",
              "      <td>...</td>\n",
              "    </tr>\n",
              "    <tr>\n",
              "      <th>75</th>\n",
              "      <td>76</td>\n",
              "      <td>1</td>\n",
              "      <td>20</td>\n",
              "      <td>50</td>\n",
              "      <td>2.553593</td>\n",
              "      <td>4.974474</td>\n",
              "      <td>1</td>\n",
              "    </tr>\n",
              "    <tr>\n",
              "      <th>76</th>\n",
              "      <td>77</td>\n",
              "      <td>1</td>\n",
              "      <td>20</td>\n",
              "      <td>50</td>\n",
              "      <td>2.587754</td>\n",
              "      <td>4.978481</td>\n",
              "      <td>1</td>\n",
              "    </tr>\n",
              "    <tr>\n",
              "      <th>77</th>\n",
              "      <td>78</td>\n",
              "      <td>1</td>\n",
              "      <td>20</td>\n",
              "      <td>50</td>\n",
              "      <td>2.621773</td>\n",
              "      <td>4.981847</td>\n",
              "      <td>1</td>\n",
              "    </tr>\n",
              "    <tr>\n",
              "      <th>78</th>\n",
              "      <td>79</td>\n",
              "      <td>1</td>\n",
              "      <td>20</td>\n",
              "      <td>50</td>\n",
              "      <td>2.655746</td>\n",
              "      <td>4.984683</td>\n",
              "      <td>1</td>\n",
              "    </tr>\n",
              "    <tr>\n",
              "      <th>79</th>\n",
              "      <td>80</td>\n",
              "      <td>1</td>\n",
              "      <td>20</td>\n",
              "      <td>50</td>\n",
              "      <td>2.689766</td>\n",
              "      <td>4.987079</td>\n",
              "      <td>1</td>\n",
              "    </tr>\n",
              "  </tbody>\n",
              "</table>\n",
              "<p>80 rows × 7 columns</p>\n",
              "</div>"
            ],
            "text/plain": [
              "    id  breath_id   R   C  time_step       u_in  u_out\n",
              "0    1          1  20  50   0.000000   0.083334      0\n",
              "1    2          1  20  50   0.033652  18.383041      0\n",
              "2    3          1  20  50   0.067514  22.509278      0\n",
              "3    4          1  20  50   0.101542  22.808822      0\n",
              "4    5          1  20  50   0.135756  25.355850      0\n",
              "..  ..        ...  ..  ..        ...        ...    ...\n",
              "75  76          1  20  50   2.553593   4.974474      1\n",
              "76  77          1  20  50   2.587754   4.978481      1\n",
              "77  78          1  20  50   2.621773   4.981847      1\n",
              "78  79          1  20  50   2.655746   4.984683      1\n",
              "79  80          1  20  50   2.689766   4.987079      1\n",
              "\n",
              "[80 rows x 7 columns]"
            ]
          },
          "metadata": {},
          "execution_count": 27
        }
      ]
    },
    {
      "cell_type": "code",
      "metadata": {
        "id": "hKBnejNKdVKe",
        "outputId": "8713f2b7-8c88-45a4-a5e0-d8905c571944",
        "colab": {
          "base_uri": "https://localhost:8080/",
          "height": 424
        }
      },
      "source": [
        "X.loc[X['breath_id'] == 1, :].assign(time_diff=lambda x: x['time_step'].diff(),y=y)\n",
        "'''\n",
        "assign은 기존 데이터프레임에 새로운 열을 추가할 때 사용.\n",
        "time_diff, y가 새로운 컬럼으로 들어가는 것이다.\n",
        ".diff()는 차분이다.\n",
        "https://m.blog.naver.com/PostView.naver?isHttpsRedirect=true&blogId=rising_n_falling&logNo=221631637822\n",
        "\n",
        "'''"
      ],
      "execution_count": 35,
      "outputs": [
        {
          "output_type": "execute_result",
          "data": {
            "text/html": [
              "<div>\n",
              "<style scoped>\n",
              "    .dataframe tbody tr th:only-of-type {\n",
              "        vertical-align: middle;\n",
              "    }\n",
              "\n",
              "    .dataframe tbody tr th {\n",
              "        vertical-align: top;\n",
              "    }\n",
              "\n",
              "    .dataframe thead th {\n",
              "        text-align: right;\n",
              "    }\n",
              "</style>\n",
              "<table border=\"1\" class=\"dataframe\">\n",
              "  <thead>\n",
              "    <tr style=\"text-align: right;\">\n",
              "      <th></th>\n",
              "      <th>id</th>\n",
              "      <th>breath_id</th>\n",
              "      <th>R</th>\n",
              "      <th>C</th>\n",
              "      <th>time_step</th>\n",
              "      <th>u_in</th>\n",
              "      <th>u_out</th>\n",
              "      <th>time_diff</th>\n",
              "      <th>y</th>\n",
              "    </tr>\n",
              "  </thead>\n",
              "  <tbody>\n",
              "    <tr>\n",
              "      <th>0</th>\n",
              "      <td>1</td>\n",
              "      <td>1</td>\n",
              "      <td>20</td>\n",
              "      <td>50</td>\n",
              "      <td>0.000000</td>\n",
              "      <td>0.083334</td>\n",
              "      <td>0</td>\n",
              "      <td>NaN</td>\n",
              "      <td>5.837492</td>\n",
              "    </tr>\n",
              "    <tr>\n",
              "      <th>1</th>\n",
              "      <td>2</td>\n",
              "      <td>1</td>\n",
              "      <td>20</td>\n",
              "      <td>50</td>\n",
              "      <td>0.033652</td>\n",
              "      <td>18.383041</td>\n",
              "      <td>0</td>\n",
              "      <td>0.033652</td>\n",
              "      <td>5.907794</td>\n",
              "    </tr>\n",
              "    <tr>\n",
              "      <th>2</th>\n",
              "      <td>3</td>\n",
              "      <td>1</td>\n",
              "      <td>20</td>\n",
              "      <td>50</td>\n",
              "      <td>0.067514</td>\n",
              "      <td>22.509278</td>\n",
              "      <td>0</td>\n",
              "      <td>0.033862</td>\n",
              "      <td>7.876254</td>\n",
              "    </tr>\n",
              "    <tr>\n",
              "      <th>3</th>\n",
              "      <td>4</td>\n",
              "      <td>1</td>\n",
              "      <td>20</td>\n",
              "      <td>50</td>\n",
              "      <td>0.101542</td>\n",
              "      <td>22.808822</td>\n",
              "      <td>0</td>\n",
              "      <td>0.034028</td>\n",
              "      <td>11.742872</td>\n",
              "    </tr>\n",
              "    <tr>\n",
              "      <th>4</th>\n",
              "      <td>5</td>\n",
              "      <td>1</td>\n",
              "      <td>20</td>\n",
              "      <td>50</td>\n",
              "      <td>0.135756</td>\n",
              "      <td>25.355850</td>\n",
              "      <td>0</td>\n",
              "      <td>0.034213</td>\n",
              "      <td>12.234987</td>\n",
              "    </tr>\n",
              "    <tr>\n",
              "      <th>...</th>\n",
              "      <td>...</td>\n",
              "      <td>...</td>\n",
              "      <td>...</td>\n",
              "      <td>...</td>\n",
              "      <td>...</td>\n",
              "      <td>...</td>\n",
              "      <td>...</td>\n",
              "      <td>...</td>\n",
              "      <td>...</td>\n",
              "    </tr>\n",
              "    <tr>\n",
              "      <th>75</th>\n",
              "      <td>76</td>\n",
              "      <td>1</td>\n",
              "      <td>20</td>\n",
              "      <td>50</td>\n",
              "      <td>2.553593</td>\n",
              "      <td>4.974474</td>\n",
              "      <td>1</td>\n",
              "      <td>0.034092</td>\n",
              "      <td>6.399909</td>\n",
              "    </tr>\n",
              "    <tr>\n",
              "      <th>76</th>\n",
              "      <td>77</td>\n",
              "      <td>1</td>\n",
              "      <td>20</td>\n",
              "      <td>50</td>\n",
              "      <td>2.587754</td>\n",
              "      <td>4.978481</td>\n",
              "      <td>1</td>\n",
              "      <td>0.034160</td>\n",
              "      <td>6.610815</td>\n",
              "    </tr>\n",
              "    <tr>\n",
              "      <th>77</th>\n",
              "      <td>78</td>\n",
              "      <td>1</td>\n",
              "      <td>20</td>\n",
              "      <td>50</td>\n",
              "      <td>2.621773</td>\n",
              "      <td>4.981847</td>\n",
              "      <td>1</td>\n",
              "      <td>0.034020</td>\n",
              "      <td>6.329607</td>\n",
              "    </tr>\n",
              "    <tr>\n",
              "      <th>78</th>\n",
              "      <td>79</td>\n",
              "      <td>1</td>\n",
              "      <td>20</td>\n",
              "      <td>50</td>\n",
              "      <td>2.655746</td>\n",
              "      <td>4.984683</td>\n",
              "      <td>1</td>\n",
              "      <td>0.033972</td>\n",
              "      <td>6.540513</td>\n",
              "    </tr>\n",
              "    <tr>\n",
              "      <th>79</th>\n",
              "      <td>80</td>\n",
              "      <td>1</td>\n",
              "      <td>20</td>\n",
              "      <td>50</td>\n",
              "      <td>2.689766</td>\n",
              "      <td>4.987079</td>\n",
              "      <td>1</td>\n",
              "      <td>0.034020</td>\n",
              "      <td>6.470211</td>\n",
              "    </tr>\n",
              "  </tbody>\n",
              "</table>\n",
              "<p>80 rows × 9 columns</p>\n",
              "</div>"
            ],
            "text/plain": [
              "    id  breath_id   R   C  time_step       u_in  u_out  time_diff          y\n",
              "0    1          1  20  50   0.000000   0.083334      0        NaN   5.837492\n",
              "1    2          1  20  50   0.033652  18.383041      0   0.033652   5.907794\n",
              "2    3          1  20  50   0.067514  22.509278      0   0.033862   7.876254\n",
              "3    4          1  20  50   0.101542  22.808822      0   0.034028  11.742872\n",
              "4    5          1  20  50   0.135756  25.355850      0   0.034213  12.234987\n",
              "..  ..        ...  ..  ..        ...        ...    ...        ...        ...\n",
              "75  76          1  20  50   2.553593   4.974474      1   0.034092   6.399909\n",
              "76  77          1  20  50   2.587754   4.978481      1   0.034160   6.610815\n",
              "77  78          1  20  50   2.621773   4.981847      1   0.034020   6.329607\n",
              "78  79          1  20  50   2.655746   4.984683      1   0.033972   6.540513\n",
              "79  80          1  20  50   2.689766   4.987079      1   0.034020   6.470211\n",
              "\n",
              "[80 rows x 9 columns]"
            ]
          },
          "metadata": {},
          "execution_count": 35
        }
      ]
    },
    {
      "cell_type": "code",
      "metadata": {
        "id": "J8TzRzqhTewQ",
        "outputId": "e7b9a638-e662-4285-88bb-e280d588e5ce",
        "colab": {
          "base_uri": "https://localhost:8080/",
          "height": 1000
        }
      },
      "source": [
        "# 이 그림 개추천!!\n",
        "\n",
        "X.loc[X['breath_id'] == 1, :].assign(time_diff=lambda x: x['time_step'].diff(),y=y)\\\n",
        ".plot(x='time_step', subplots=True, figsize=(20, 40))"
      ],
      "execution_count": 38,
      "outputs": [
        {
          "output_type": "execute_result",
          "data": {
            "text/plain": [
              "array([<matplotlib.axes._subplots.AxesSubplot object at 0x7f50ea23d410>,\n",
              "       <matplotlib.axes._subplots.AxesSubplot object at 0x7f50e833eb50>,\n",
              "       <matplotlib.axes._subplots.AxesSubplot object at 0x7f50e8335910>,\n",
              "       <matplotlib.axes._subplots.AxesSubplot object at 0x7f50e82aa350>,\n",
              "       <matplotlib.axes._subplots.AxesSubplot object at 0x7f50e825e750>,\n",
              "       <matplotlib.axes._subplots.AxesSubplot object at 0x7f50e8213b50>,\n",
              "       <matplotlib.axes._subplots.AxesSubplot object at 0x7f50e81cafd0>,\n",
              "       <matplotlib.axes._subplots.AxesSubplot object at 0x7f50e818c350>],\n",
              "      dtype=object)"
            ]
          },
          "metadata": {},
          "execution_count": 38
        },
        {
          "output_type": "display_data",
          "data": {
            "image/png": "[encoded data removed]",
            "text/plain": [
              "<Figure size 1440x2880 with 8 Axes>"
            ]
          },
          "metadata": {
            "needs_background": "light"
          }
        }
      ]
    },
    {
      "cell_type": "code",
      "metadata": {
        "id": "UxzslY-ATerB"
      },
      "source": [
        ""
      ],
      "execution_count": null,
      "outputs": []
    },
    {
      "cell_type": "code",
      "metadata": {
        "id": "cPjqMoBgTemq"
      },
      "source": [
        ""
      ],
      "execution_count": null,
      "outputs": []
    },
    {
      "cell_type": "code",
      "metadata": {
        "id": "7cSen4crTekS"
      },
      "source": [
        ""
      ],
      "execution_count": null,
      "outputs": []
    },
    {
      "cell_type": "code",
      "metadata": {
        "id": "SA5Jyu9wTehu"
      },
      "source": [
        ""
      ],
      "execution_count": null,
      "outputs": []
    },
    {
      "cell_type": "code",
      "metadata": {
        "id": "UiY9ivSYTefa"
      },
      "source": [
        ""
      ],
      "execution_count": null,
      "outputs": []
    },
    {
      "cell_type": "code",
      "metadata": {
        "id": "IQSdNURATecx"
      },
      "source": [
        ""
      ],
      "execution_count": null,
      "outputs": []
    },
    {
      "cell_type": "code",
      "metadata": {
        "id": "zEaP8FBLTeaR"
      },
      "source": [
        ""
      ],
      "execution_count": null,
      "outputs": []
    }
  ]
}