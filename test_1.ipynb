{
  "nbformat": 4,
  "nbformat_minor": 0,
  "metadata": {
    "colab": {
      "name": "test_1.ipynb",
      "provenance": [],
      "mount_file_id": "1obR7q8x81zAhO_lP0OxtutC75W5a3snI",
      "authorship_tag": "ABX9TyMFDUE5J7NXGqKV7F39U09K",
      "include_colab_link": true
    },
    "kernelspec": {
      "name": "python3",
      "display_name": "Python 3"
    },
    "language_info": {
      "name": "python"
    },
    "accelerator": "GPU"
  },
  "cells": [
    {
      "cell_type": "markdown",
      "metadata": {
        "id": "view-in-github",
        "colab_type": "text"
      },
      "source": [
        "<a href=\"https://colab.research.google.com/github/K-107/Ventilator_Pressure_Prediction/blob/main/test_1.ipynb\" target=\"_parent\"><img src=\"https://colab.research.google.com/assets/colab-badge.svg\" alt=\"Open In Colab\"/></a>"
      ]
    },
    {
      "cell_type": "code",
      "metadata": {
        "colab": {
          "base_uri": "https://localhost:8080/"
        },
        "id": "S_X00FnTw-8d",
        "outputId": "af2afabf-a1c8-425d-d83f-8f6cff34bceb"
      },
      "source": [
        "% cd /content/drive/MyDrive/Ventilator_Pressure_Prediction"
      ],
      "execution_count": 5,
      "outputs": [
        {
          "output_type": "stream",
          "name": "stdout",
          "text": [
            "/content/drive/MyDrive/Ventilator_Pressure_Prediction\n"
          ]
        }
      ]
    },
    {
      "cell_type": "code",
      "metadata": {
        "id": "YIBImGaZ5oVA"
      },
      "source": [
        "import pandas as pd\n",
        "import numpy as np\n",
        "\n",
        "df = pd.read_csv('train.csv')"
      ],
      "execution_count": 6,
      "outputs": []
    },
    {
      "cell_type": "code",
      "metadata": {
        "colab": {
          "base_uri": "https://localhost:8080/",
          "height": 424
        },
        "id": "t3s6lv0x5oXp",
        "outputId": "3359d5d2-f9d5-4d85-c46e-dc01e1ca19d3"
      },
      "source": [
        "df"
      ],
      "execution_count": 7,
      "outputs": [
        {
          "output_type": "execute_result",
          "data": {
            "text/html": [
              "<div>\n",
              "<style scoped>\n",
              "    .dataframe tbody tr th:only-of-type {\n",
              "        vertical-align: middle;\n",
              "    }\n",
              "\n",
              "    .dataframe tbody tr th {\n",
              "        vertical-align: top;\n",
              "    }\n",
              "\n",
              "    .dataframe thead th {\n",
              "        text-align: right;\n",
              "    }\n",
              "</style>\n",
              "<table border=\"1\" class=\"dataframe\">\n",
              "  <thead>\n",
              "    <tr style=\"text-align: right;\">\n",
              "      <th></th>\n",
              "      <th>id</th>\n",
              "      <th>breath_id</th>\n",
              "      <th>R</th>\n",
              "      <th>C</th>\n",
              "      <th>time_step</th>\n",
              "      <th>u_in</th>\n",
              "      <th>u_out</th>\n",
              "      <th>pressure</th>\n",
              "    </tr>\n",
              "  </thead>\n",
              "  <tbody>\n",
              "    <tr>\n",
              "      <th>0</th>\n",
              "      <td>1</td>\n",
              "      <td>1</td>\n",
              "      <td>20</td>\n",
              "      <td>50</td>\n",
              "      <td>0.000000</td>\n",
              "      <td>0.083334</td>\n",
              "      <td>0</td>\n",
              "      <td>5.837492</td>\n",
              "    </tr>\n",
              "    <tr>\n",
              "      <th>1</th>\n",
              "      <td>2</td>\n",
              "      <td>1</td>\n",
              "      <td>20</td>\n",
              "      <td>50</td>\n",
              "      <td>0.033652</td>\n",
              "      <td>18.383041</td>\n",
              "      <td>0</td>\n",
              "      <td>5.907794</td>\n",
              "    </tr>\n",
              "    <tr>\n",
              "      <th>2</th>\n",
              "      <td>3</td>\n",
              "      <td>1</td>\n",
              "      <td>20</td>\n",
              "      <td>50</td>\n",
              "      <td>0.067514</td>\n",
              "      <td>22.509278</td>\n",
              "      <td>0</td>\n",
              "      <td>7.876254</td>\n",
              "    </tr>\n",
              "    <tr>\n",
              "      <th>3</th>\n",
              "      <td>4</td>\n",
              "      <td>1</td>\n",
              "      <td>20</td>\n",
              "      <td>50</td>\n",
              "      <td>0.101542</td>\n",
              "      <td>22.808822</td>\n",
              "      <td>0</td>\n",
              "      <td>11.742872</td>\n",
              "    </tr>\n",
              "    <tr>\n",
              "      <th>4</th>\n",
              "      <td>5</td>\n",
              "      <td>1</td>\n",
              "      <td>20</td>\n",
              "      <td>50</td>\n",
              "      <td>0.135756</td>\n",
              "      <td>25.355850</td>\n",
              "      <td>0</td>\n",
              "      <td>12.234987</td>\n",
              "    </tr>\n",
              "    <tr>\n",
              "      <th>...</th>\n",
              "      <td>...</td>\n",
              "      <td>...</td>\n",
              "      <td>...</td>\n",
              "      <td>...</td>\n",
              "      <td>...</td>\n",
              "      <td>...</td>\n",
              "      <td>...</td>\n",
              "      <td>...</td>\n",
              "    </tr>\n",
              "    <tr>\n",
              "      <th>6035995</th>\n",
              "      <td>6035996</td>\n",
              "      <td>125749</td>\n",
              "      <td>50</td>\n",
              "      <td>10</td>\n",
              "      <td>2.504603</td>\n",
              "      <td>1.489714</td>\n",
              "      <td>1</td>\n",
              "      <td>3.869032</td>\n",
              "    </tr>\n",
              "    <tr>\n",
              "      <th>6035996</th>\n",
              "      <td>6035997</td>\n",
              "      <td>125749</td>\n",
              "      <td>50</td>\n",
              "      <td>10</td>\n",
              "      <td>2.537961</td>\n",
              "      <td>1.488497</td>\n",
              "      <td>1</td>\n",
              "      <td>3.869032</td>\n",
              "    </tr>\n",
              "    <tr>\n",
              "      <th>6035997</th>\n",
              "      <td>6035998</td>\n",
              "      <td>125749</td>\n",
              "      <td>50</td>\n",
              "      <td>10</td>\n",
              "      <td>2.571408</td>\n",
              "      <td>1.558978</td>\n",
              "      <td>1</td>\n",
              "      <td>3.798729</td>\n",
              "    </tr>\n",
              "    <tr>\n",
              "      <th>6035998</th>\n",
              "      <td>6035999</td>\n",
              "      <td>125749</td>\n",
              "      <td>50</td>\n",
              "      <td>10</td>\n",
              "      <td>2.604744</td>\n",
              "      <td>1.272663</td>\n",
              "      <td>1</td>\n",
              "      <td>4.079938</td>\n",
              "    </tr>\n",
              "    <tr>\n",
              "      <th>6035999</th>\n",
              "      <td>6036000</td>\n",
              "      <td>125749</td>\n",
              "      <td>50</td>\n",
              "      <td>10</td>\n",
              "      <td>2.638017</td>\n",
              "      <td>1.482739</td>\n",
              "      <td>1</td>\n",
              "      <td>3.869032</td>\n",
              "    </tr>\n",
              "  </tbody>\n",
              "</table>\n",
              "<p>6036000 rows × 8 columns</p>\n",
              "</div>"
            ],
            "text/plain": [
              "              id  breath_id   R   C  time_step       u_in  u_out   pressure\n",
              "0              1          1  20  50   0.000000   0.083334      0   5.837492\n",
              "1              2          1  20  50   0.033652  18.383041      0   5.907794\n",
              "2              3          1  20  50   0.067514  22.509278      0   7.876254\n",
              "3              4          1  20  50   0.101542  22.808822      0  11.742872\n",
              "4              5          1  20  50   0.135756  25.355850      0  12.234987\n",
              "...          ...        ...  ..  ..        ...        ...    ...        ...\n",
              "6035995  6035996     125749  50  10   2.504603   1.489714      1   3.869032\n",
              "6035996  6035997     125749  50  10   2.537961   1.488497      1   3.869032\n",
              "6035997  6035998     125749  50  10   2.571408   1.558978      1   3.798729\n",
              "6035998  6035999     125749  50  10   2.604744   1.272663      1   4.079938\n",
              "6035999  6036000     125749  50  10   2.638017   1.482739      1   3.869032\n",
              "\n",
              "[6036000 rows x 8 columns]"
            ]
          },
          "metadata": {},
          "execution_count": 7
        }
      ]
    },
    {
      "cell_type": "code",
      "metadata": {
        "colab": {
          "base_uri": "https://localhost:8080/",
          "height": 424
        },
        "id": "v8F07PC376Ey",
        "outputId": "937dd2c8-986b-4dec-a457-d3190c2cb7bf"
      },
      "source": [
        "from sklearn.preprocessing import MinMaxScaler\n",
        "scaler = MinMaxScaler()\n",
        "scaled = scaler.fit_transform(df)\n",
        "df_scaled = pd.DataFrame(data=scaled, columns=df.columns)\n",
        "df_scaled"
      ],
      "execution_count": 8,
      "outputs": [
        {
          "output_type": "execute_result",
          "data": {
            "text/html": [
              "<div>\n",
              "<style scoped>\n",
              "    .dataframe tbody tr th:only-of-type {\n",
              "        vertical-align: middle;\n",
              "    }\n",
              "\n",
              "    .dataframe tbody tr th {\n",
              "        vertical-align: top;\n",
              "    }\n",
              "\n",
              "    .dataframe thead th {\n",
              "        text-align: right;\n",
              "    }\n",
              "</style>\n",
              "<table border=\"1\" class=\"dataframe\">\n",
              "  <thead>\n",
              "    <tr style=\"text-align: right;\">\n",
              "      <th></th>\n",
              "      <th>id</th>\n",
              "      <th>breath_id</th>\n",
              "      <th>R</th>\n",
              "      <th>C</th>\n",
              "      <th>time_step</th>\n",
              "      <th>u_in</th>\n",
              "      <th>u_out</th>\n",
              "      <th>pressure</th>\n",
              "    </tr>\n",
              "  </thead>\n",
              "  <tbody>\n",
              "    <tr>\n",
              "      <th>0</th>\n",
              "      <td>0.000000e+00</td>\n",
              "      <td>0.0</td>\n",
              "      <td>0.333333</td>\n",
              "      <td>1.0</td>\n",
              "      <td>0.000000</td>\n",
              "      <td>0.000833</td>\n",
              "      <td>0.0</td>\n",
              "      <td>0.115911</td>\n",
              "    </tr>\n",
              "    <tr>\n",
              "      <th>1</th>\n",
              "      <td>1.656727e-07</td>\n",
              "      <td>0.0</td>\n",
              "      <td>0.333333</td>\n",
              "      <td>1.0</td>\n",
              "      <td>0.011457</td>\n",
              "      <td>0.183830</td>\n",
              "      <td>0.0</td>\n",
              "      <td>0.116965</td>\n",
              "    </tr>\n",
              "    <tr>\n",
              "      <th>2</th>\n",
              "      <td>3.313453e-07</td>\n",
              "      <td>0.0</td>\n",
              "      <td>0.333333</td>\n",
              "      <td>1.0</td>\n",
              "      <td>0.022986</td>\n",
              "      <td>0.225093</td>\n",
              "      <td>0.0</td>\n",
              "      <td>0.146470</td>\n",
              "    </tr>\n",
              "    <tr>\n",
              "      <th>3</th>\n",
              "      <td>4.970180e-07</td>\n",
              "      <td>0.0</td>\n",
              "      <td>0.333333</td>\n",
              "      <td>1.0</td>\n",
              "      <td>0.034571</td>\n",
              "      <td>0.228088</td>\n",
              "      <td>0.0</td>\n",
              "      <td>0.204426</td>\n",
              "    </tr>\n",
              "    <tr>\n",
              "      <th>4</th>\n",
              "      <td>6.626906e-07</td>\n",
              "      <td>0.0</td>\n",
              "      <td>0.333333</td>\n",
              "      <td>1.0</td>\n",
              "      <td>0.046219</td>\n",
              "      <td>0.253559</td>\n",
              "      <td>0.0</td>\n",
              "      <td>0.211802</td>\n",
              "    </tr>\n",
              "    <tr>\n",
              "      <th>...</th>\n",
              "      <td>...</td>\n",
              "      <td>...</td>\n",
              "      <td>...</td>\n",
              "      <td>...</td>\n",
              "      <td>...</td>\n",
              "      <td>...</td>\n",
              "      <td>...</td>\n",
              "      <td>...</td>\n",
              "    </tr>\n",
              "    <tr>\n",
              "      <th>6035995</th>\n",
              "      <td>9.999993e-01</td>\n",
              "      <td>1.0</td>\n",
              "      <td>1.000000</td>\n",
              "      <td>0.0</td>\n",
              "      <td>0.852707</td>\n",
              "      <td>0.014897</td>\n",
              "      <td>1.0</td>\n",
              "      <td>0.086407</td>\n",
              "    </tr>\n",
              "    <tr>\n",
              "      <th>6035996</th>\n",
              "      <td>9.999995e-01</td>\n",
              "      <td>1.0</td>\n",
              "      <td>1.000000</td>\n",
              "      <td>0.0</td>\n",
              "      <td>0.864064</td>\n",
              "      <td>0.014885</td>\n",
              "      <td>1.0</td>\n",
              "      <td>0.086407</td>\n",
              "    </tr>\n",
              "    <tr>\n",
              "      <th>6035997</th>\n",
              "      <td>9.999997e-01</td>\n",
              "      <td>1.0</td>\n",
              "      <td>1.000000</td>\n",
              "      <td>0.0</td>\n",
              "      <td>0.875451</td>\n",
              "      <td>0.015590</td>\n",
              "      <td>1.0</td>\n",
              "      <td>0.085353</td>\n",
              "    </tr>\n",
              "    <tr>\n",
              "      <th>6035998</th>\n",
              "      <td>9.999998e-01</td>\n",
              "      <td>1.0</td>\n",
              "      <td>1.000000</td>\n",
              "      <td>0.0</td>\n",
              "      <td>0.886801</td>\n",
              "      <td>0.012727</td>\n",
              "      <td>1.0</td>\n",
              "      <td>0.089568</td>\n",
              "    </tr>\n",
              "    <tr>\n",
              "      <th>6035999</th>\n",
              "      <td>1.000000e+00</td>\n",
              "      <td>1.0</td>\n",
              "      <td>1.000000</td>\n",
              "      <td>0.0</td>\n",
              "      <td>0.898129</td>\n",
              "      <td>0.014827</td>\n",
              "      <td>1.0</td>\n",
              "      <td>0.086407</td>\n",
              "    </tr>\n",
              "  </tbody>\n",
              "</table>\n",
              "<p>6036000 rows × 8 columns</p>\n",
              "</div>"
            ],
            "text/plain": [
              "                   id  breath_id         R  ...      u_in  u_out  pressure\n",
              "0        0.000000e+00        0.0  0.333333  ...  0.000833    0.0  0.115911\n",
              "1        1.656727e-07        0.0  0.333333  ...  0.183830    0.0  0.116965\n",
              "2        3.313453e-07        0.0  0.333333  ...  0.225093    0.0  0.146470\n",
              "3        4.970180e-07        0.0  0.333333  ...  0.228088    0.0  0.204426\n",
              "4        6.626906e-07        0.0  0.333333  ...  0.253559    0.0  0.211802\n",
              "...               ...        ...       ...  ...       ...    ...       ...\n",
              "6035995  9.999993e-01        1.0  1.000000  ...  0.014897    1.0  0.086407\n",
              "6035996  9.999995e-01        1.0  1.000000  ...  0.014885    1.0  0.086407\n",
              "6035997  9.999997e-01        1.0  1.000000  ...  0.015590    1.0  0.085353\n",
              "6035998  9.999998e-01        1.0  1.000000  ...  0.012727    1.0  0.089568\n",
              "6035999  1.000000e+00        1.0  1.000000  ...  0.014827    1.0  0.086407\n",
              "\n",
              "[6036000 rows x 8 columns]"
            ]
          },
          "metadata": {},
          "execution_count": 8
        }
      ]
    },
    {
      "cell_type": "code",
      "metadata": {
        "id": "D7E3wuHr7qfR"
      },
      "source": [
        "X = df_scaled.drop(['pressure'], axis=1)\n",
        "y = df_scaled['pressure']"
      ],
      "execution_count": 9,
      "outputs": []
    },
    {
      "cell_type": "code",
      "metadata": {
        "id": "3j8-1ylV5oae"
      },
      "source": [
        "from sklearn.model_selection import train_test_split\n",
        "X_train, X_test, y_train, y_test = train_test_split(X, y, test_size=0.2, random_state=20)"
      ],
      "execution_count": 11,
      "outputs": []
    },
    {
      "cell_type": "code",
      "metadata": {
        "colab": {
          "base_uri": "https://localhost:8080/"
        },
        "id": "v2HCRNnJ5odI",
        "outputId": "7b888805-719f-4b91-a0c8-7981964678a6"
      },
      "source": [
        "from xgboost import XGBRegressor\n",
        "from sklearn.model_selection import GridSearchCV\n",
        "\n",
        "xgb = XGBRegressor(n_jobs=-1, random_state=20)\n",
        "params = {'n_estimators':[400], 'max_depth':[2], 'learning_rate':[0.01]}\n",
        "grid = GridSearchCV(xgb, param_grid=params, n_jobs=-1, cv=3)\n",
        "grid.fit(X_train, y_train)\n",
        "print('최적 하이퍼 파라미터: ', grid.best_params_)\n",
        "best_grid = grid.best_estimator_\n",
        "pred = best_grid.predict(X_test)"
      ],
      "execution_count": 14,
      "outputs": [
        {
          "output_type": "stream",
          "name": "stdout",
          "text": [
            "[03:25:46] WARNING: /workspace/src/objective/regression_obj.cu:152: reg:linear is now deprecated in favor of reg:squarederror.\n",
            "[03:25:46] WARNING: /workspace/src/learner.cc:686: Tree method is automatically selected to be 'approx' for faster speed. To use old behavior (exact greedy algorithm on single machine), set tree_method to 'exact'.\n",
            "최적 하이퍼 파라미터:  {'learning_rate': 0.01, 'max_depth': 2, 'n_estimators': 400}\n"
          ]
        }
      ]
    },
    {
      "cell_type": "code",
      "metadata": {
        "colab": {
          "base_uri": "https://localhost:8080/"
        },
        "id": "wyWg0lhO5oft",
        "outputId": "da23896c-a687-4978-f0b1-52d8008ada04"
      },
      "source": [
        "from sklearn.metrics import mean_absolute_error\n",
        "mean_absolute_error(y_test,pred)"
      ],
      "execution_count": 18,
      "outputs": [
        {
          "output_type": "execute_result",
          "data": {
            "text/plain": [
              "0.04633149570830192"
            ]
          },
          "metadata": {},
          "execution_count": 18
        }
      ]
    },
    {
      "cell_type": "code",
      "metadata": {
        "colab": {
          "base_uri": "https://localhost:8080/",
          "height": 320
        },
        "id": "jaHNGHsW5oiP",
        "outputId": "d6037024-a353-4484-9fbc-95f39bad7573"
      },
      "source": [
        "df.describe()"
      ],
      "execution_count": 20,
      "outputs": [
        {
          "output_type": "execute_result",
          "data": {
            "text/html": [
              "<div>\n",
              "<style scoped>\n",
              "    .dataframe tbody tr th:only-of-type {\n",
              "        vertical-align: middle;\n",
              "    }\n",
              "\n",
              "    .dataframe tbody tr th {\n",
              "        vertical-align: top;\n",
              "    }\n",
              "\n",
              "    .dataframe thead th {\n",
              "        text-align: right;\n",
              "    }\n",
              "</style>\n",
              "<table border=\"1\" class=\"dataframe\">\n",
              "  <thead>\n",
              "    <tr style=\"text-align: right;\">\n",
              "      <th></th>\n",
              "      <th>id</th>\n",
              "      <th>breath_id</th>\n",
              "      <th>R</th>\n",
              "      <th>C</th>\n",
              "      <th>time_step</th>\n",
              "      <th>u_in</th>\n",
              "      <th>u_out</th>\n",
              "      <th>pressure</th>\n",
              "    </tr>\n",
              "  </thead>\n",
              "  <tbody>\n",
              "    <tr>\n",
              "      <th>count</th>\n",
              "      <td>6.036000e+06</td>\n",
              "      <td>6.036000e+06</td>\n",
              "      <td>6.036000e+06</td>\n",
              "      <td>6.036000e+06</td>\n",
              "      <td>6.036000e+06</td>\n",
              "      <td>6.036000e+06</td>\n",
              "      <td>6.036000e+06</td>\n",
              "      <td>6.036000e+06</td>\n",
              "    </tr>\n",
              "    <tr>\n",
              "      <th>mean</th>\n",
              "      <td>3.018000e+06</td>\n",
              "      <td>6.283886e+04</td>\n",
              "      <td>2.703618e+01</td>\n",
              "      <td>2.608072e+01</td>\n",
              "      <td>1.307225e+00</td>\n",
              "      <td>7.321615e+00</td>\n",
              "      <td>6.204493e-01</td>\n",
              "      <td>1.122041e+01</td>\n",
              "    </tr>\n",
              "    <tr>\n",
              "      <th>std</th>\n",
              "      <td>1.742443e+06</td>\n",
              "      <td>3.633526e+04</td>\n",
              "      <td>1.959549e+01</td>\n",
              "      <td>1.715231e+01</td>\n",
              "      <td>7.659778e-01</td>\n",
              "      <td>1.343470e+01</td>\n",
              "      <td>4.852752e-01</td>\n",
              "      <td>8.109703e+00</td>\n",
              "    </tr>\n",
              "    <tr>\n",
              "      <th>min</th>\n",
              "      <td>1.000000e+00</td>\n",
              "      <td>1.000000e+00</td>\n",
              "      <td>5.000000e+00</td>\n",
              "      <td>1.000000e+01</td>\n",
              "      <td>0.000000e+00</td>\n",
              "      <td>0.000000e+00</td>\n",
              "      <td>0.000000e+00</td>\n",
              "      <td>-1.895744e+00</td>\n",
              "    </tr>\n",
              "    <tr>\n",
              "      <th>25%</th>\n",
              "      <td>1.509001e+06</td>\n",
              "      <td>3.137700e+04</td>\n",
              "      <td>5.000000e+00</td>\n",
              "      <td>1.000000e+01</td>\n",
              "      <td>6.428995e-01</td>\n",
              "      <td>3.936623e-01</td>\n",
              "      <td>0.000000e+00</td>\n",
              "      <td>6.329607e+00</td>\n",
              "    </tr>\n",
              "    <tr>\n",
              "      <th>50%</th>\n",
              "      <td>3.018000e+06</td>\n",
              "      <td>6.276550e+04</td>\n",
              "      <td>2.000000e+01</td>\n",
              "      <td>2.000000e+01</td>\n",
              "      <td>1.308123e+00</td>\n",
              "      <td>4.386146e+00</td>\n",
              "      <td>1.000000e+00</td>\n",
              "      <td>7.032628e+00</td>\n",
              "    </tr>\n",
              "    <tr>\n",
              "      <th>75%</th>\n",
              "      <td>4.527000e+06</td>\n",
              "      <td>9.430100e+04</td>\n",
              "      <td>5.000000e+01</td>\n",
              "      <td>5.000000e+01</td>\n",
              "      <td>1.965502e+00</td>\n",
              "      <td>4.983895e+00</td>\n",
              "      <td>1.000000e+00</td>\n",
              "      <td>1.364103e+01</td>\n",
              "    </tr>\n",
              "    <tr>\n",
              "      <th>max</th>\n",
              "      <td>6.036000e+06</td>\n",
              "      <td>1.257490e+05</td>\n",
              "      <td>5.000000e+01</td>\n",
              "      <td>5.000000e+01</td>\n",
              "      <td>2.937238e+00</td>\n",
              "      <td>1.000000e+02</td>\n",
              "      <td>1.000000e+00</td>\n",
              "      <td>6.482099e+01</td>\n",
              "    </tr>\n",
              "  </tbody>\n",
              "</table>\n",
              "</div>"
            ],
            "text/plain": [
              "                 id     breath_id  ...         u_out      pressure\n",
              "count  6.036000e+06  6.036000e+06  ...  6.036000e+06  6.036000e+06\n",
              "mean   3.018000e+06  6.283886e+04  ...  6.204493e-01  1.122041e+01\n",
              "std    1.742443e+06  3.633526e+04  ...  4.852752e-01  8.109703e+00\n",
              "min    1.000000e+00  1.000000e+00  ...  0.000000e+00 -1.895744e+00\n",
              "25%    1.509001e+06  3.137700e+04  ...  0.000000e+00  6.329607e+00\n",
              "50%    3.018000e+06  6.276550e+04  ...  1.000000e+00  7.032628e+00\n",
              "75%    4.527000e+06  9.430100e+04  ...  1.000000e+00  1.364103e+01\n",
              "max    6.036000e+06  1.257490e+05  ...  1.000000e+00  6.482099e+01\n",
              "\n",
              "[8 rows x 8 columns]"
            ]
          },
          "metadata": {},
          "execution_count": 20
        }
      ]
    },
    {
      "cell_type": "code",
      "metadata": {
        "colab": {
          "base_uri": "https://localhost:8080/"
        },
        "id": "H97yMMFIKV8e",
        "outputId": "a8789402-b961-4717-aa7f-48dce13bd428"
      },
      "source": [
        "# minmax 복원\n",
        "0.04633149570830192*(64.82099+1.895744)-1.895744"
      ],
      "execution_count": 21,
      "outputs": [
        {
          "output_type": "execute_result",
          "data": {
            "text/plain": [
              "1.19534207499292"
            ]
          },
          "metadata": {},
          "execution_count": 21
        }
      ]
    },
    {
      "cell_type": "code",
      "metadata": {
        "id": "h0lrv5vTLCO2"
      },
      "source": [
        ""
      ],
      "execution_count": null,
      "outputs": []
    }
  ]
}